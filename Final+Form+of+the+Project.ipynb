{
 "cells": [
  {
   "cell_type": "markdown",
   "metadata": {
    "collapsed": true
   },
   "source": [
    "# CURRENCY\n",
    "\n",
    "## What is Currency?\n",
    "\n",
    " Currency is a generally accepted form of money such as coins, treasury notes, and banknotes that is in circulation as a medium of exchange.Usually, each country has its own currency. For instance, Turkeyâ€™s official currency is Turkish Lira, Japanâ€™s is the yen. Although, Euro is used as a currency of  different European countries.Some currencies like online currency( Bitcoins) or branded currency ( credit card points) are not affiliated to any countries. Their values depend on the products they are connected to. ISO 4217 arranges the three-letter codes for representation of currencies. For instance, the three-letter code of Euro is \"EUR\", Russian Rouble is represented by \"RUB\", U.S Dollar is \"USD\".\n",
    " A currency is called convertible if it can be converted into another currency without government restrictions. It is very important for international trade. Sometimes government  wants to control hot money flows and do not allow the currencies to participate the Foreign Exchange Market and they are not allowed to be converted.When a currency is not convertible, it is risky trade with foreigners who do not need the domestic currency. Exchange rate is used when two currencies are converted into one another.The most important factor affecting the exchange rate is the supply demand factor. The exchange rate / exchange rates are determined at the point where the supply and demand intersect. Foreign exchange demand of any country reflects its current deficit. The fact that the foreign currencies spent in the country are more than the foreign currencies entering the country, causes the current account deficit problem.Foreign exchange rates move downward in a country's economy where demand is sought. On the contrary, foreign exchange rates move upwards in a country economy where demand is high.\n",
    " In the economies where the fixed exchange rate regime is applied, the exchange rate is bought and sold at a fixed price determined by the central bank of that country. Here is a question that may come to mind; does not the exchange rate move up or down in any way? Of course, but central banks can keep the exchange rate constant over the price determined by means of measures to compensate for this increase / decrease using the instruments in hand.\n",
    "  \n",
    " In the nominal effective exchange rate, the size of the foreign trade in which an country is made by other countries is used as weight. Returns the relative value of the local currency.\n",
    " The real effective exchange rate index is calculated in various forms. A group of these are the effective exchange rate indices described above, which are calculated by taking into account inflation rates of the countries where basket currencies belong to and the inflation rates of the local country. The other is the real exchange rate index which is taken into account the unit labor costs of the countries.\n",
    "\n",
    " If a floating exchange rate regime is exercised in a country, then the value of the country's currency against foreign currencies, ie the exchange rate, is determined. If the foreign exchange is regarded as a kind of commodity, it can be seen that the exchange rate which is its price is determined according to the supply and demand rules like the price of the other commodities. In a country there is plenty of foreign currency, domestic currency is short, exchange rate is low,on the other hand, foreign exchange is scarce, domestic currency is abundant if the exchange rate is high. In the floating exchange rate regime, the exchange rates constantly rise or fall according to the movements in the market. If the value of an country loses value against the foreign currency, it is called \"depreciation\"; if it gains value, it is called \"value appreciation\". Exchange rates are also affected by inflation,interest rates,capital and political factors.\n",
    " Foreign Exchange Market is a great market which provides trading currency to the financiers.It is decentralized and has large number of participants.Foreign Exchange Market is worldâ€™s largest financial market in which currencies are traded.(buy, sell, exchange,speculate)\n",
    "\n",
    " The purpose of creating this market is that money from international trade can easily flow. Some important functions of FX Market are setting the prices of currencies with respect to others, financing international commerce whose transactions represent a important part of the foreign exchange market ,allowing the exchange rate to take place when investments are made in another currency and supporting the exchange of funds between countries. Therefore need of liquidity of the countries can be observed. (Liquidity is the name given to the ease with which a financial product, securities or real estate can be converted into cash.) \n",
    "\n",
    " Forex provides the most recent rates for \"International Currency Converter\" which is an electronic program for convert one currency to another quickly.In FX Market, currencies are quoted as currency pairs. First part is Â«base currencyÂ» and the second part of the quotation is Â«counterÂ» or Â«quote currencyÂ».These currency pairs are demonstrates that how much counter currency is needed to buy one unit of base currency.The main qoute currencies in world are Euro,U.S dollar, British pound etc. Currency pairs can be divided into two types which are \"direct\" and \"indirect\". In a direct quote; the native currency is the base currency while the foreign currency is the quote currency. On the opposite way; in indirect quote, the foreign currency is the base currency and the native currency is the quote currency. For example, for an American trader, the EUR/USD quote is an indirect one.\n",
    "\n",
    "\n",
    "### About my data:\n",
    " \n",
    "#### EUR/USD :\n",
    " It is the one of the most  used exchange rates in the world. I want to give a short information about it.\n",
    " The EUR/USD is affected by factors that influence the value of the euro and/or the U.S. dollar in relation to each other and to other currencies. For this reason, when compared to each other value of these currencies are affected by the interest rate difference between the European Central Bank (ECB) and the Federal Reserve (Fed). When the Fed interferes in open market activities to make the U.S. dollar stronger, for example, the value of the EUR/USD cross could decline due to a strengthening of the U.S. dollar compared to the euro.\n",
    "\n",
    "\n",
    " I used online datas from Quandl:\n",
    "\n",
    "### https://www.quandl.com/data/CURRFX/EURRUB-Currency-Exchange-Rates-EUR-vs-RUB:\n",
    " This exchange rate shows the value of 1 Euro in Russian Roubles. This exchange rate is an amalgamation of rates from multiple sources. These include exchanges, brokerages, newspapers and central bank sources. High and Low rates are crudely estimated.\n",
    "\n",
    "### https://www.quandl.com/data/CURRFX/EURUSD-Currency-Exchange-Rates-EUR-vs-USD:\n",
    " This exchange rate shows the value of 1 Euro in U.S. Dollars. This exchange rate is an ama:lgamation of rates from multiple sources. These include exchanges, brokerages, newspapers and central bank sources. High and Low rates are crudely estimated. The data has 4 columns and 5381 rows\n",
    "\n",
    " The columns:\n",
    "Date: demonstrates the dates; it can be daily,weekly,monthly or annual.\n",
    "Rate:\n",
    "High(est):demonstrates the highest price of the time period.\n",
    "Low(est): demonstrates the lowest price of the time period.\n"
   ]
  },
  {
   "cell_type": "code",
   "execution_count": 2,
   "metadata": {},
   "outputs": [],
   "source": [
    "library(Quandl)"
   ]
  },
  {
   "cell_type": "code",
   "execution_count": 3,
   "metadata": {
    "collapsed": true
   },
   "outputs": [],
   "source": [
    "eur_rub= Quandl(\"CURRFX/EURRUB\", collapse=\"monthly\",type=\"ts\")"
   ]
  },
  {
   "cell_type": "code",
   "execution_count": 4,
   "metadata": {},
   "outputs": [
    {
     "data": {
      "image/png": "[encoded data removed]",
      "text/plain": [
       "plot without title"
      ]
     },
     "metadata": {},
     "output_type": "display_data"
    }
   ],
   "source": [
    "plot(eur_rub)"
   ]
  },
  {
   "cell_type": "code",
   "execution_count": 7,
   "metadata": {},
   "outputs": [
    {
     "data": {
      "text/plain": [
       "          Jan      Feb      Mar      Apr      May      Jun      Jul      Aug\n",
       "1999                                                                        \n",
       "2000 27.85250 27.77730 27.43900 25.91000 26.40640 26.75000 25.78480 24.72520\n",
       "2001 26.54960 26.44920 25.33880 25.72140 24.77750 24.69550 25.67980 26.87560\n",
       "2002 26.39620 26.86800 27.16700 28.16950 29.31010 31.21390 30.88700 31.08780\n",
       "2003 34.32790 34.05660 34.11600 34.66190 36.31140 34.85670 34.11320 33.38700\n",
       "2004 35.55888 35.50178 35.07702 34.75051 35.36487 35.40664 34.96672 35.63157\n",
       "2005 36.69917 36.60296 36.13779 35.76432 34.75286 34.61357 34.93147 35.38152\n",
       "2006 34.04590 33.34030 33.82210 34.19670 34.61110 34.32487 34.23177 34.26669\n",
       "2007 34.48110 34.54598 34.71332 35.06942 34.80408 34.80515 34.96486 34.99311\n",
       "2008 36.31526 36.47757 37.06902 36.91495 36.80882 36.92906 36.54239 36.03650\n",
       "2009 45.70603 45.40198 44.81182 43.65504 43.36280 43.62426 44.97619 46.47644\n",
       "2010 42.17791 40.61884 39.74537 38.83695 37.95112 38.22065 39.47557 38.82359\n",
       "2011 40.28150 39.72668 40.26972 40.84522 40.10011 40.49416 39.67538 41.62936\n",
       "2012 39.87859 39.08377 39.15484 38.75821 40.54721 41.21162 39.42405 40.70712\n",
       "2013 40.74843 40.03419 39.70969 40.50576 41.29239 42.69977 43.67358 43.94983\n",
       "2014 47.32458 49.33437 48.89089 49.20488 47.09570 46.01883 47.63628 48.49975\n",
       "2015 77.91494 68.50397 62.30099 56.67159 57.32758 62.45660 65.28048 73.22201\n",
       "2016 81.67065 83.39342 76.24380 75.18732 74.24154 71.05937 73.37257 72.75061\n",
       "2017 65.00108 61.63036 59.76950 61.89581 63.15443 67.98627 69.87195 69.52319\n",
       "          Sep      Oct      Nov      Dec\n",
       "1999 26.71470 27.61940 26.81180 27.65970\n",
       "2000 24.45170 23.56400 24.20190 26.73520\n",
       "2001 26.86700 26.78910 26.64560 27.12960\n",
       "2002 31.24050 31.40300 31.65800 33.51530\n",
       "2003 35.61200 34.76800 35.53609 36.80062\n",
       "2004 36.33199 36.65749 37.39411 37.58868\n",
       "2005 34.26551 34.11198 34.08535 34.02998\n",
       "2006 33.92297 34.09425 34.78388 34.77244\n",
       "2007 35.38523 35.68793 36.01975 35.86760\n",
       "2008 36.14181 34.39183 35.29248 42.67381\n",
       "2009 44.03497 42.99816 43.94381 42.97430\n",
       "2010 41.42522 43.02784 41.06666 40.63832\n",
       "2011 43.43763 41.97127 41.02622 41.41299\n",
       "2012 39.93339 40.62298 40.04307 40.26535\n",
       "2013 43.64715 43.85659 45.05523 45.13568\n",
       "2014 49.90697 51.73118 62.51788 68.78854\n",
       "2015 73.96277 70.56948 70.29240 80.06955\n",
       "2016 70.71843 69.13091 67.70675 64.98075\n",
       "2017 68.20434 67.46938 69.44876 69.75847"
      ]
     },
     "metadata": {},
     "output_type": "display_data"
    },
    {
     "data": {
      "image/png": "[encoded data removed]",
      "text/plain": [
       "plot without title"
      ]
     },
     "metadata": {},
     "output_type": "display_data"
    }
   ],
   "source": [
    "eur_rub_rate <- eur_rub[,1]\n",
    "eur_rub_rate\n",
    "plot(eur_rub_rate)"
   ]
  },
  {
   "cell_type": "markdown",
   "metadata": {},
   "source": [
    "# Decomposing\n",
    "\n",
    "## 'Additive Form'"
   ]
  },
  {
   "cell_type": "code",
   "execution_count": 8,
   "metadata": {},
   "outputs": [
    {
     "data": {
      "text/plain": [
       "$x\n",
       "          Jan      Feb      Mar      Apr      May      Jun      Jul      Aug\n",
       "1999                                                                        \n",
       "2000 27.85250 27.77730 27.43900 25.91000 26.40640 26.75000 25.78480 24.72520\n",
       "2001 26.54960 26.44920 25.33880 25.72140 24.77750 24.69550 25.67980 26.87560\n",
       "2002 26.39620 26.86800 27.16700 28.16950 29.31010 31.21390 30.88700 31.08780\n",
       "2003 34.32790 34.05660 34.11600 34.66190 36.31140 34.85670 34.11320 33.38700\n",
       "2004 35.55888 35.50178 35.07702 34.75051 35.36487 35.40664 34.96672 35.63157\n",
       "2005 36.69917 36.60296 36.13779 35.76432 34.75286 34.61357 34.93147 35.38152\n",
       "2006 34.04590 33.34030 33.82210 34.19670 34.61110 34.32487 34.23177 34.26669\n",
       "2007 34.48110 34.54598 34.71332 35.06942 34.80408 34.80515 34.96486 34.99311\n",
       "2008 36.31526 36.47757 37.06902 36.91495 36.80882 36.92906 36.54239 36.03650\n",
       "2009 45.70603 45.40198 44.81182 43.65504 43.36280 43.62426 44.97619 46.47644\n",
       "2010 42.17791 40.61884 39.74537 38.83695 37.95112 38.22065 39.47557 38.82359\n",
       "2011 40.28150 39.72668 40.26972 40.84522 40.10011 40.49416 39.67538 41.62936\n",
       "2012 39.87859 39.08377 39.15484 38.75821 40.54721 41.21162 39.42405 40.70712\n",
       "2013 40.74843 40.03419 39.70969 40.50576 41.29239 42.69977 43.67358 43.94983\n",
       "2014 47.32458 49.33437 48.89089 49.20488 47.09570 46.01883 47.63628 48.49975\n",
       "2015 77.91494 68.50397 62.30099 56.67159 57.32758 62.45660 65.28048 73.22201\n",
       "2016 81.67065 83.39342 76.24380 75.18732 74.24154 71.05937 73.37257 72.75061\n",
       "2017 65.00108 61.63036 59.76950 61.89581 63.15443 67.98627 69.87195 69.52319\n",
       "          Sep      Oct      Nov      Dec\n",
       "1999 26.71470 27.61940 26.81180 27.65970\n",
       "2000 24.45170 23.56400 24.20190 26.73520\n",
       "2001 26.86700 26.78910 26.64560 27.12960\n",
       "2002 31.24050 31.40300 31.65800 33.51530\n",
       "2003 35.61200 34.76800 35.53609 36.80062\n",
       "2004 36.33199 36.65749 37.39411 37.58868\n",
       "2005 34.26551 34.11198 34.08535 34.02998\n",
       "2006 33.92297 34.09425 34.78388 34.77244\n",
       "2007 35.38523 35.68793 36.01975 35.86760\n",
       "2008 36.14181 34.39183 35.29248 42.67381\n",
       "2009 44.03497 42.99816 43.94381 42.97430\n",
       "2010 41.42522 43.02784 41.06666 40.63832\n",
       "2011 43.43763 41.97127 41.02622 41.41299\n",
       "2012 39.93339 40.62298 40.04307 40.26535\n",
       "2013 43.64715 43.85659 45.05523 45.13568\n",
       "2014 49.90697 51.73118 62.51788 68.78854\n",
       "2015 73.96277 70.56948 70.29240 80.06955\n",
       "2016 70.71843 69.13091 67.70675 64.98075\n",
       "2017 68.20434 67.46938 69.44876 69.75847\n",
       "\n",
       "$seasonal\n",
       "             Jan         Feb         Mar         Apr         May         Jun\n",
       "1999                                                                        \n",
       "2000  1.81298800  0.80055905 -0.36303057 -0.83227045 -0.93985119 -0.62783680\n",
       "2001  1.81298800  0.80055905 -0.36303057 -0.83227045 -0.93985119 -0.62783680\n",
       "2002  1.81298800  0.80055905 -0.36303057 -0.83227045 -0.93985119 -0.62783680\n",
       "2003  1.81298800  0.80055905 -0.36303057 -0.83227045 -0.93985119 -0.62783680\n",
       "2004  1.81298800  0.80055905 -0.36303057 -0.83227045 -0.93985119 -0.62783680\n",
       "2005  1.81298800  0.80055905 -0.36303057 -0.83227045 -0.93985119 -0.62783680\n",
       "2006  1.81298800  0.80055905 -0.36303057 -0.83227045 -0.93985119 -0.62783680\n",
       "2007  1.81298800  0.80055905 -0.36303057 -0.83227045 -0.93985119 -0.62783680\n",
       "2008  1.81298800  0.80055905 -0.36303057 -0.83227045 -0.93985119 -0.62783680\n",
       "2009  1.81298800  0.80055905 -0.36303057 -0.83227045 -0.93985119 -0.62783680\n",
       "2010  1.81298800  0.80055905 -0.36303057 -0.83227045 -0.93985119 -0.62783680\n",
       "2011  1.81298800  0.80055905 -0.36303057 -0.83227045 -0.93985119 -0.62783680\n",
       "2012  1.81298800  0.80055905 -0.36303057 -0.83227045 -0.93985119 -0.62783680\n",
       "2013  1.81298800  0.80055905 -0.36303057 -0.83227045 -0.93985119 -0.62783680\n",
       "2014  1.81298800  0.80055905 -0.36303057 -0.83227045 -0.93985119 -0.62783680\n",
       "2015  1.81298800  0.80055905 -0.36303057 -0.83227045 -0.93985119 -0.62783680\n",
       "2016  1.81298800  0.80055905 -0.36303057 -0.83227045 -0.93985119 -0.62783680\n",
       "2017  1.81298800  0.80055905 -0.36303057 -0.83227045 -0.93985119 -0.62783680\n",
       "             Jul         Aug         Sep         Oct         Nov         Dec\n",
       "1999                         -0.01706580 -0.53211044 -0.01077830  1.33393740\n",
       "2000 -0.60254000 -0.02200089 -0.01706580 -0.53211044 -0.01077830  1.33393740\n",
       "2001 -0.60254000 -0.02200089 -0.01706580 -0.53211044 -0.01077830  1.33393740\n",
       "2002 -0.60254000 -0.02200089 -0.01706580 -0.53211044 -0.01077830  1.33393740\n",
       "2003 -0.60254000 -0.02200089 -0.01706580 -0.53211044 -0.01077830  1.33393740\n",
       "2004 -0.60254000 -0.02200089 -0.01706580 -0.53211044 -0.01077830  1.33393740\n",
       "2005 -0.60254000 -0.02200089 -0.01706580 -0.53211044 -0.01077830  1.33393740\n",
       "2006 -0.60254000 -0.02200089 -0.01706580 -0.53211044 -0.01077830  1.33393740\n",
       "2007 -0.60254000 -0.02200089 -0.01706580 -0.53211044 -0.01077830  1.33393740\n",
       "2008 -0.60254000 -0.02200089 -0.01706580 -0.53211044 -0.01077830  1.33393740\n",
       "2009 -0.60254000 -0.02200089 -0.01706580 -0.53211044 -0.01077830  1.33393740\n",
       "2010 -0.60254000 -0.02200089 -0.01706580 -0.53211044 -0.01077830  1.33393740\n",
       "2011 -0.60254000 -0.02200089 -0.01706580 -0.53211044 -0.01077830  1.33393740\n",
       "2012 -0.60254000 -0.02200089 -0.01706580 -0.53211044 -0.01077830  1.33393740\n",
       "2013 -0.60254000 -0.02200089 -0.01706580 -0.53211044 -0.01077830  1.33393740\n",
       "2014 -0.60254000 -0.02200089 -0.01706580 -0.53211044 -0.01077830  1.33393740\n",
       "2015 -0.60254000 -0.02200089 -0.01706580 -0.53211044 -0.01077830  1.33393740\n",
       "2016 -0.60254000 -0.02200089 -0.01706580 -0.53211044 -0.01077830  1.33393740\n",
       "2017 -0.60254000 -0.02200089 -0.01706580 -0.53211044 -0.01077830  1.33393740\n",
       "\n",
       "$trend\n",
       "          Jan      Feb      Mar      Apr      May      Jun      Jul      Aug\n",
       "1999                                                                        \n",
       "2000       NA       NA 26.69327 26.43001 26.15229 26.00502 25.91221 25.80259\n",
       "2001 25.24519 25.33042 25.52065 25.75567 25.99187 26.11013 26.12017 26.13123\n",
       "2002 27.64292 28.03539 28.39313 28.76760 29.16870 29.64362 30.24018 30.87019\n",
       "2003 33.31127 33.54149 33.81944 34.14179 34.44359 34.74206 34.93024 35.04175\n",
       "2004 35.19195 35.32104 35.44456 35.55329 35.70943 35.81969 35.90003 35.99343\n",
       "2005 36.09363 36.08174 35.98522 35.79306 35.54913 35.26298 35.00415 34.75766\n",
       "2006 34.23308 34.15747 34.09675 34.08174 34.11010 34.17014 34.21921 34.28758\n",
       "2007 34.57146 34.63228 34.72347 34.85080 34.96870 35.06583 35.18788 35.34479\n",
       "2008 36.18516 36.29436 36.36936 36.34688 36.26258 36.51587 37.19074 37.95387\n",
       "2009 40.98814 41.77454 42.53842 43.22590 43.94497 44.31796 44.18348 43.83717\n",
       "2010 41.68370 41.13564 40.70803 40.60053 40.48188 40.26467 40.08832 39.97213\n",
       "2011 40.52288 40.64811 40.84886 40.88869 40.84298 40.87358 40.88906 40.84549\n",
       "2012 40.63845 40.58955 40.40512 40.20293 40.10578 40.01700 40.00543 40.08127\n",
       "2013 40.67591 40.98809 41.27794 41.56742 41.91099 42.32276 42.79970 43.46121\n",
       "2014 46.26406 46.61875 47.06915 47.65809 48.71381 50.42695 52.68709 54.76042\n",
       "2015 60.25653 62.02180 64.05422 65.84147 66.95034 67.74432 68.37085 69.14773\n",
       "2016 74.93657 75.25410 75.09928 74.90416 74.73648 74.00004 72.67678 71.07542\n",
       "2017 66.36226 66.08193 65.84270 65.66871 65.67207 65.94372       NA       NA\n",
       "          Sep      Oct      Nov      Dec\n",
       "1999       NA       NA       NA       NA\n",
       "2000 25.65974 25.56437 25.48865 25.33517\n",
       "2001 26.22485 26.40303 26.69389 27.15435\n",
       "2002 31.45926 32.01932 32.58155 33.02506\n",
       "2003 35.14201 35.18574 35.15000 35.13347\n",
       "2004 36.08351 36.16995 36.18669 36.12815\n",
       "2005 34.52522 34.36342 34.29220 34.27426\n",
       "2006 34.37495 34.44845 34.49286 34.52091\n",
       "2007 35.52343 35.69848 35.85891 36.03093\n",
       "2008 38.64834 39.25179 39.80571 40.35776\n",
       "2009 43.42678 43.01492 42.58868 42.13804\n",
       "2010 39.95680 40.06233 40.23555 40.41982\n",
       "2011 40.77225 40.63884 40.57051 40.61903\n",
       "2012 40.14399 40.23992 40.34379 40.43684\n",
       "2013 44.23127 44.97628 45.58055 45.96065\n",
       "2014 56.11791 56.98777 57.72521 58.83645\n",
       "2015 70.34908 71.70152 73.17775 74.24095\n",
       "2016 69.48220 68.24195 67.22618 66.63617\n",
       "2017       NA       NA       NA       NA\n",
       "\n",
       "$random\n",
       "              Jan          Feb          Mar          Apr          May\n",
       "1999                                                                 \n",
       "2000           NA           NA  1.108755574  0.312262120  1.193963687\n",
       "2001 -0.508579662  0.318224287  0.181176408  0.797999620 -0.274519647\n",
       "2002 -3.059704662 -1.967950713 -0.863098592  0.234166287  1.081251187\n",
       "2003 -0.796354662 -0.285450713  0.659593074  1.352378787  2.807663909\n",
       "2004 -1.446056810 -0.619813153 -0.004509358  0.029498632  0.595290246\n",
       "2005 -1.207454872 -0.279345038  0.515598597  0.803530683  0.143580339\n",
       "2006 -2.000164510 -1.617730328  0.088383233  0.947234423  1.440847675\n",
       "2007 -1.903354518 -0.886854333  0.352875691  1.050886621  0.775226496\n",
       "2008 -1.682889652 -0.617350263  1.062686425  1.400338004  1.486089291\n",
       "2009  2.904906082  2.826878863  2.636428974  1.261410068  0.357677839\n",
       "2010 -1.318781408 -1.317362152 -0.599627036 -0.931304783 -1.590912916\n",
       "2011 -2.054361534 -1.721981845 -0.216115811  0.788798004  0.196981492\n",
       "2012 -2.572849146 -2.306344511 -0.887246945 -0.612448066  1.381277305\n",
       "2013 -1.740473302 -1.754458112 -1.205218651 -0.229382048  0.321253838\n",
       "2014 -0.752458286  1.915059247  2.184765480  2.379066616 -0.678251523\n",
       "2015 15.845421124  5.681608198 -1.390193640 -8.337609937 -8.682913878\n",
       "2016  4.921096134  7.338759102  1.507551016  1.115439246  0.444910429\n",
       "2017 -3.174175930 -5.252124153 -5.710171559 -2.940631399 -1.577782887\n",
       "              Jun          Jul          Aug          Sep          Oct\n",
       "1999                                                  NA           NA\n",
       "2000  1.372815962  0.475127495 -1.055386606 -1.190975868 -1.468264560\n",
       "2001 -0.786788205  0.162173329  0.766375894  0.659215798  0.918181273\n",
       "2002  2.198115962  1.249360829  0.239609227 -0.201692535 -0.084206227\n",
       "2003  0.742473704 -0.214502458 -1.632748281  0.487058282  0.114368185\n",
       "2004  0.214789958 -0.330776712 -0.339857951  0.265542304  1.019650685\n",
       "2005 -0.021575837  0.529853099  0.645865001 -0.242651445  0.280667544\n",
       "2006  0.782560179  0.615100644  0.001103630 -0.434921791  0.177905352\n",
       "2007  0.367157709  0.379519760 -0.329681610 -0.121133531  0.521559782\n",
       "2008  1.041032564 -0.045807700 -1.895376896 -2.489462897 -4.327852977\n",
       "2009 -0.065862088  1.395250777  2.661262617  0.625259991  0.515348501\n",
       "2010 -1.416178612 -0.010205449 -1.126539921  1.485481377  3.497615881\n",
       "2011  0.248424939 -0.611148060  0.805868571  2.682444528  1.864543028\n",
       "2012  1.822455497  0.021166622  0.647849028 -0.193533465  0.915167875\n",
       "2013  1.004843962  1.476418157  0.510621811 -0.567055111 -0.587585223\n",
       "2014 -3.780289559 -4.448269547 -6.238668178 -6.193868364 -4.724479926\n",
       "2015 -4.659888018 -2.487831772  4.096275593  3.630757446 -0.599924498\n",
       "2016 -2.312835444  1.298335373  1.697192455  1.253299669  1.421069689\n",
       "2017  2.670380206           NA           NA           NA           NA\n",
       "              Nov          Dec\n",
       "1999           NA           NA\n",
       "2000 -1.275967529  0.066091766\n",
       "2001 -0.037513362 -1.358687401\n",
       "2002 -0.912775862 -0.843695734\n",
       "2003  0.396877092  0.333216107\n",
       "2004  1.218199289  0.126597331\n",
       "2005 -0.196071055 -1.578213549\n",
       "2006  0.301801559 -1.082406912\n",
       "2007  0.171625015 -1.497274631\n",
       "2008 -4.502450907  0.982105023\n",
       "2009  1.365912474 -0.497682963\n",
       "2010  0.841886716 -1.115433290\n",
       "2011  0.466495073 -0.539979214\n",
       "2012 -0.289938573 -1.505434905\n",
       "2013 -0.514538729 -2.158901129\n",
       "2014  4.803444422  8.618157790\n",
       "2015 -2.874570651  4.494661575\n",
       "2016  0.491349415 -2.989355479\n",
       "2017           NA           NA\n",
       "\n",
       "$figure\n",
       " [1] -0.01706580 -0.53211044 -0.01077830  1.33393740  1.81298800  0.80055905\n",
       " [7] -0.36303057 -0.83227045 -0.93985119 -0.62783680 -0.60254000 -0.02200089\n",
       "\n",
       "$type\n",
       "[1] \"additive\"\n",
       "\n",
       "attr(,\"class\")\n",
       "[1] \"decomposed.ts\""
      ]
     },
     "metadata": {},
     "output_type": "display_data"
    }
   ],
   "source": [
    "decompose(eur_rub_rate)"
   ]
  },
  {
   "cell_type": "code",
   "execution_count": 10,
   "metadata": {},
   "outputs": [
    {
     "data": {
      "image/png": "[encoded data removed]",
      "text/plain": [
       "plot without title"
      ]
     },
     "metadata": {},
     "output_type": "display_data"
    }
   ],
   "source": [
    "plot(decompose(eur_rub_rate))"
   ]
  },
  {
   "cell_type": "code",
   "execution_count": 13,
   "metadata": {},
   "outputs": [
    {
     "data": {
      "text/plain": [
       "              Jan          Feb          Mar          Apr          May\n",
       "1999                                                                 \n",
       "2000           NA           NA  1.108755574  0.312262120  1.193963687\n",
       "2001 -0.508579662  0.318224287  0.181176408  0.797999620 -0.274519647\n",
       "2002 -3.059704662 -1.967950713 -0.863098592  0.234166287  1.081251187\n",
       "2003 -0.796354662 -0.285450713  0.659593074  1.352378787  2.807663909\n",
       "2004 -1.446056810 -0.619813153 -0.004509358  0.029498632  0.595290246\n",
       "2005 -1.207454872 -0.279345038  0.515598597  0.803530683  0.143580339\n",
       "2006 -2.000164510 -1.617730328  0.088383233  0.947234423  1.440847675\n",
       "2007 -1.903354518 -0.886854333  0.352875691  1.050886621  0.775226496\n",
       "2008 -1.682889652 -0.617350263  1.062686425  1.400338004  1.486089291\n",
       "2009  2.904906082  2.826878863  2.636428974  1.261410068  0.357677839\n",
       "2010 -1.318781408 -1.317362152 -0.599627036 -0.931304783 -1.590912916\n",
       "2011 -2.054361534 -1.721981845 -0.216115811  0.788798004  0.196981492\n",
       "2012 -2.572849146 -2.306344511 -0.887246945 -0.612448066  1.381277305\n",
       "2013 -1.740473302 -1.754458112 -1.205218651 -0.229382048  0.321253838\n",
       "2014 -0.752458286  1.915059247  2.184765480  2.379066616 -0.678251523\n",
       "2015 15.845421124  5.681608198 -1.390193640 -8.337609937 -8.682913878\n",
       "2016  4.921096134  7.338759102  1.507551016  1.115439246  0.444910429\n",
       "2017 -3.174175930 -5.252124153 -5.710171559 -2.940631399 -1.577782887\n",
       "              Jun          Jul          Aug          Sep          Oct\n",
       "1999                                                  NA           NA\n",
       "2000  1.372815962  0.475127495 -1.055386606 -1.190975868 -1.468264560\n",
       "2001 -0.786788205  0.162173329  0.766375894  0.659215798  0.918181273\n",
       "2002  2.198115962  1.249360829  0.239609227 -0.201692535 -0.084206227\n",
       "2003  0.742473704 -0.214502458 -1.632748281  0.487058282  0.114368185\n",
       "2004  0.214789958 -0.330776712 -0.339857951  0.265542304  1.019650685\n",
       "2005 -0.021575837  0.529853099  0.645865001 -0.242651445  0.280667544\n",
       "2006  0.782560179  0.615100644  0.001103630 -0.434921791  0.177905352\n",
       "2007  0.367157709  0.379519760 -0.329681610 -0.121133531  0.521559782\n",
       "2008  1.041032564 -0.045807700 -1.895376896 -2.489462897 -4.327852977\n",
       "2009 -0.065862088  1.395250777  2.661262617  0.625259991  0.515348501\n",
       "2010 -1.416178612 -0.010205449 -1.126539921  1.485481377  3.497615881\n",
       "2011  0.248424939 -0.611148060  0.805868571  2.682444528  1.864543028\n",
       "2012  1.822455497  0.021166622  0.647849028 -0.193533465  0.915167875\n",
       "2013  1.004843962  1.476418157  0.510621811 -0.567055111 -0.587585223\n",
       "2014 -3.780289559 -4.448269547 -6.238668178 -6.193868364 -4.724479926\n",
       "2015 -4.659888018 -2.487831772  4.096275593  3.630757446 -0.599924498\n",
       "2016 -2.312835444  1.298335373  1.697192455  1.253299669  1.421069689\n",
       "2017  2.670380206           NA           NA           NA           NA\n",
       "              Nov          Dec\n",
       "1999           NA           NA\n",
       "2000 -1.275967529  0.066091766\n",
       "2001 -0.037513362 -1.358687401\n",
       "2002 -0.912775862 -0.843695734\n",
       "2003  0.396877092  0.333216107\n",
       "2004  1.218199289  0.126597331\n",
       "2005 -0.196071055 -1.578213549\n",
       "2006  0.301801559 -1.082406912\n",
       "2007  0.171625015 -1.497274631\n",
       "2008 -4.502450907  0.982105023\n",
       "2009  1.365912474 -0.497682963\n",
       "2010  0.841886716 -1.115433290\n",
       "2011  0.466495073 -0.539979214\n",
       "2012 -0.289938573 -1.505434905\n",
       "2013 -0.514538729 -2.158901129\n",
       "2014  4.803444422  8.618157790\n",
       "2015 -2.874570651  4.494661575\n",
       "2016  0.491349415 -2.989355479\n",
       "2017           NA           NA"
      ]
     },
     "metadata": {},
     "output_type": "display_data"
    }
   ],
   "source": [
    "random_additive <- (decompose(eur_rub_rate))$random\n",
    "random_additive"
   ]
  },
  {
   "cell_type": "code",
   "execution_count": 12,
   "metadata": {},
   "outputs": [
    {
     "data": {
      "image/png": "[encoded data removed]",
      "text/plain": [
       "plot without title"
      ]
     },
     "metadata": {},
     "output_type": "display_data"
    }
   ],
   "source": [
    "plot(random_additive)"
   ]
  },
  {
   "cell_type": "code",
   "execution_count": 19,
   "metadata": {},
   "outputs": [
    {
     "data": {
      "text/plain": [
       "              Jan          Feb          Mar          Apr          May\n",
       "2000                            1.108755574  0.312262120  1.193963687\n",
       "2001 -0.508579662  0.318224287  0.181176408  0.797999620 -0.274519647\n",
       "2002 -3.059704662 -1.967950713 -0.863098592  0.234166287  1.081251187\n",
       "2003 -0.796354662 -0.285450713  0.659593074  1.352378787  2.807663909\n",
       "2004 -1.446056810 -0.619813153 -0.004509358  0.029498632  0.595290246\n",
       "2005 -1.207454872 -0.279345038  0.515598597  0.803530683  0.143580339\n",
       "2006 -2.000164510 -1.617730328  0.088383233  0.947234423  1.440847675\n",
       "2007 -1.903354518 -0.886854333  0.352875691  1.050886621  0.775226496\n",
       "2008 -1.682889652 -0.617350263  1.062686425  1.400338004  1.486089291\n",
       "2009  2.904906082  2.826878863  2.636428974  1.261410068  0.357677839\n",
       "2010 -1.318781408 -1.317362152 -0.599627036 -0.931304783 -1.590912916\n",
       "2011 -2.054361534 -1.721981845 -0.216115811  0.788798004  0.196981492\n",
       "2012 -2.572849146 -2.306344511 -0.887246945 -0.612448066  1.381277305\n",
       "2013 -1.740473302 -1.754458112 -1.205218651 -0.229382048  0.321253838\n",
       "2014 -0.752458286  1.915059247  2.184765480  2.379066616 -0.678251523\n",
       "2015 15.845421124  5.681608198 -1.390193640 -8.337609937 -8.682913878\n",
       "2016  4.921096134  7.338759102  1.507551016  1.115439246  0.444910429\n",
       "2017 -3.174175930 -5.252124153 -5.710171559 -2.940631399 -1.577782887\n",
       "              Jun          Jul          Aug          Sep          Oct\n",
       "2000  1.372815962  0.475127495 -1.055386606 -1.190975868 -1.468264560\n",
       "2001 -0.786788205  0.162173329  0.766375894  0.659215798  0.918181273\n",
       "2002  2.198115962  1.249360829  0.239609227 -0.201692535 -0.084206227\n",
       "2003  0.742473704 -0.214502458 -1.632748281  0.487058282  0.114368185\n",
       "2004  0.214789958 -0.330776712 -0.339857951  0.265542304  1.019650685\n",
       "2005 -0.021575837  0.529853099  0.645865001 -0.242651445  0.280667544\n",
       "2006  0.782560179  0.615100644  0.001103630 -0.434921791  0.177905352\n",
       "2007  0.367157709  0.379519760 -0.329681610 -0.121133531  0.521559782\n",
       "2008  1.041032564 -0.045807700 -1.895376896 -2.489462897 -4.327852977\n",
       "2009 -0.065862088  1.395250777  2.661262617  0.625259991  0.515348501\n",
       "2010 -1.416178612 -0.010205449 -1.126539921  1.485481377  3.497615881\n",
       "2011  0.248424939 -0.611148060  0.805868571  2.682444528  1.864543028\n",
       "2012  1.822455497  0.021166622  0.647849028 -0.193533465  0.915167875\n",
       "2013  1.004843962  1.476418157  0.510621811 -0.567055111 -0.587585223\n",
       "2014 -3.780289559 -4.448269547 -6.238668178 -6.193868364 -4.724479926\n",
       "2015 -4.659888018 -2.487831772  4.096275593  3.630757446 -0.599924498\n",
       "2016 -2.312835444  1.298335373  1.697192455  1.253299669  1.421069689\n",
       "2017  2.670380206                                                    \n",
       "              Nov          Dec\n",
       "2000 -1.275967529  0.066091766\n",
       "2001 -0.037513362 -1.358687401\n",
       "2002 -0.912775862 -0.843695734\n",
       "2003  0.396877092  0.333216107\n",
       "2004  1.218199289  0.126597331\n",
       "2005 -0.196071055 -1.578213549\n",
       "2006  0.301801559 -1.082406912\n",
       "2007  0.171625015 -1.497274631\n",
       "2008 -4.502450907  0.982105023\n",
       "2009  1.365912474 -0.497682963\n",
       "2010  0.841886716 -1.115433290\n",
       "2011  0.466495073 -0.539979214\n",
       "2012 -0.289938573 -1.505434905\n",
       "2013 -0.514538729 -2.158901129\n",
       "2014  4.803444422  8.618157790\n",
       "2015 -2.874570651  4.494661575\n",
       "2016  0.491349415 -2.989355479\n",
       "2017                          "
      ]
     },
     "metadata": {},
     "output_type": "display_data"
    }
   ],
   "source": [
    "random_additive <- na.omit(random_additive)\n",
    "random_additive"
   ]
  },
  {
   "cell_type": "code",
   "execution_count": 23,
   "metadata": {},
   "outputs": [
    {
     "data": {
      "image/png": "[encoded data removed]",
      "text/plain": [
       "Plot with title \"Series  ts(random_additive)\""
      ]
     },
     "metadata": {},
     "output_type": "display_data"
    },
    {
     "data": {
      "image/png": "[encoded data removed]",
      "text/plain": [
       "Plot with title \"Series  ts(random_additive)\""
      ]
     },
     "metadata": {},
     "output_type": "display_data"
    }
   ],
   "source": [
    "acf(ts(random_additive))\n",
    "pacf(ts(random_additive))"
   ]
  },
  {
   "cell_type": "code",
   "execution_count": 20,
   "metadata": {},
   "outputs": [
    {
     "data": {
      "text/plain": [
       "Series: random_additive \n",
       "ARIMA(2,0,1)(0,0,1)[12] with zero mean \n",
       "\n",
       "Coefficients:\n",
       "         ar1      ar2      ma1     sma1\n",
       "      1.4439  -0.7958  -0.6801  -0.1927\n",
       "s.e.  0.0666   0.0451   0.1149   0.0749\n",
       "\n",
       "sigma^2 estimated as 2.214:  log likelihood=-376.85\n",
       "AIC=763.7   AICc=764   BIC=780.39"
      ]
     },
     "metadata": {},
     "output_type": "display_data"
    }
   ],
   "source": [
    "library(forecast)\n",
    "auto.arima(random_additive)"
   ]
  },
  {
   "cell_type": "code",
   "execution_count": 30,
   "metadata": {},
   "outputs": [
    {
     "data": {
      "text/plain": [
       "\n",
       "Call:\n",
       "arima(x = random_additive, order = c(2, 0, 0))\n",
       "\n",
       "Coefficients:\n",
       "         ar1      ar2  intercept\n",
       "      0.9750  -0.4821    -0.0087\n",
       "s.e.  0.0612   0.0610     0.2197\n",
       "\n",
       "sigma^2 estimated as 2.581:  log likelihood = -394.29,  aic = 796.58"
      ]
     },
     "metadata": {},
     "output_type": "display_data"
    }
   ],
   "source": [
    "res <- arima(random_additive, c(2,0,0))\n",
    "res"
   ]
  },
  {
   "cell_type": "code",
   "execution_count": 31,
   "metadata": {},
   "outputs": [
    {
     "data": {
      "image/png": "[encoded data removed]",
      "text/plain": [
       "plot without title"
      ]
     },
     "metadata": {},
     "output_type": "display_data"
    }
   ],
   "source": [
    "plot(res$residuals)"
   ]
  },
  {
   "cell_type": "code",
   "execution_count": 33,
   "metadata": {},
   "outputs": [
    {
     "data": {
      "text/plain": [
       "     Min.   1st Qu.    Median      Mean   3rd Qu.      Max. \n",
       "-5.608769 -0.708404 -0.036206 -0.001781  0.559893  9.762688 "
      ]
     },
     "metadata": {},
     "output_type": "display_data"
    }
   ],
   "source": [
    "res_additive <- res$residuals\n",
    "summary(res_additive)"
   ]
  },
  {
   "cell_type": "code",
   "execution_count": 35,
   "metadata": {},
   "outputs": [
    {
     "data": {
      "text/html": [
       "208"
      ],
      "text/latex": [
       "208"
      ],
      "text/markdown": [
       "208"
      ],
      "text/plain": [
       "[1] 208"
      ]
     },
     "metadata": {},
     "output_type": "display_data"
    }
   ],
   "source": [
    "x_add= (res_additive - mean(res_additive)) / sqrt(var(res_additive))\n",
    "length(x_add)"
   ]
  },
  {
   "cell_type": "code",
   "execution_count": 36,
   "metadata": {},
   "outputs": [
    {
     "data": {
      "text/plain": [
       "\n",
       "\tTwo-sample Kolmogorov-Smirnov test\n",
       "\n",
       "data:  x_add and rnorm(500)\n",
       "D = 0.15769, p-value = 0.001344\n",
       "alternative hypothesis: two-sided\n"
      ]
     },
     "metadata": {},
     "output_type": "display_data"
    }
   ],
   "source": [
    "ks.test(x_add,rnorm(500))"
   ]
  },
  {
   "cell_type": "markdown",
   "metadata": {},
   "source": [
    "## 'Multiplicative Form'"
   ]
  },
  {
   "cell_type": "code",
   "execution_count": 37,
   "metadata": {},
   "outputs": [
    {
     "data": {
      "text/plain": [
       "$x\n",
       "          Jan      Feb      Mar      Apr      May      Jun      Jul      Aug\n",
       "1999                                                                        \n",
       "2000 27.85250 27.77730 27.43900 25.91000 26.40640 26.75000 25.78480 24.72520\n",
       "2001 26.54960 26.44920 25.33880 25.72140 24.77750 24.69550 25.67980 26.87560\n",
       "2002 26.39620 26.86800 27.16700 28.16950 29.31010 31.21390 30.88700 31.08780\n",
       "2003 34.32790 34.05660 34.11600 34.66190 36.31140 34.85670 34.11320 33.38700\n",
       "2004 35.55888 35.50178 35.07702 34.75051 35.36487 35.40664 34.96672 35.63157\n",
       "2005 36.69917 36.60296 36.13779 35.76432 34.75286 34.61357 34.93147 35.38152\n",
       "2006 34.04590 33.34030 33.82210 34.19670 34.61110 34.32487 34.23177 34.26669\n",
       "2007 34.48110 34.54598 34.71332 35.06942 34.80408 34.80515 34.96486 34.99311\n",
       "2008 36.31526 36.47757 37.06902 36.91495 36.80882 36.92906 36.54239 36.03650\n",
       "2009 45.70603 45.40198 44.81182 43.65504 43.36280 43.62426 44.97619 46.47644\n",
       "2010 42.17791 40.61884 39.74537 38.83695 37.95112 38.22065 39.47557 38.82359\n",
       "2011 40.28150 39.72668 40.26972 40.84522 40.10011 40.49416 39.67538 41.62936\n",
       "2012 39.87859 39.08377 39.15484 38.75821 40.54721 41.21162 39.42405 40.70712\n",
       "2013 40.74843 40.03419 39.70969 40.50576 41.29239 42.69977 43.67358 43.94983\n",
       "2014 47.32458 49.33437 48.89089 49.20488 47.09570 46.01883 47.63628 48.49975\n",
       "2015 77.91494 68.50397 62.30099 56.67159 57.32758 62.45660 65.28048 73.22201\n",
       "2016 81.67065 83.39342 76.24380 75.18732 74.24154 71.05937 73.37257 72.75061\n",
       "2017 65.00108 61.63036 59.76950 61.89581 63.15443 67.98627 69.87195 69.52319\n",
       "          Sep      Oct      Nov      Dec\n",
       "1999 26.71470 27.61940 26.81180 27.65970\n",
       "2000 24.45170 23.56400 24.20190 26.73520\n",
       "2001 26.86700 26.78910 26.64560 27.12960\n",
       "2002 31.24050 31.40300 31.65800 33.51530\n",
       "2003 35.61200 34.76800 35.53609 36.80062\n",
       "2004 36.33199 36.65749 37.39411 37.58868\n",
       "2005 34.26551 34.11198 34.08535 34.02998\n",
       "2006 33.92297 34.09425 34.78388 34.77244\n",
       "2007 35.38523 35.68793 36.01975 35.86760\n",
       "2008 36.14181 34.39183 35.29248 42.67381\n",
       "2009 44.03497 42.99816 43.94381 42.97430\n",
       "2010 41.42522 43.02784 41.06666 40.63832\n",
       "2011 43.43763 41.97127 41.02622 41.41299\n",
       "2012 39.93339 40.62298 40.04307 40.26535\n",
       "2013 43.64715 43.85659 45.05523 45.13568\n",
       "2014 49.90697 51.73118 62.51788 68.78854\n",
       "2015 73.96277 70.56948 70.29240 80.06955\n",
       "2016 70.71843 69.13091 67.70675 64.98075\n",
       "2017 68.20434 67.46938 69.44876 69.75847\n",
       "\n",
       "$seasonal\n",
       "           Jan       Feb       Mar       Apr       May       Jun       Jul\n",
       "1999                                                                      \n",
       "2000 1.0335977 1.0136698 0.9941397 0.9856079 0.9843098 0.9900154 0.9878282\n",
       "2001 1.0335977 1.0136698 0.9941397 0.9856079 0.9843098 0.9900154 0.9878282\n",
       "2002 1.0335977 1.0136698 0.9941397 0.9856079 0.9843098 0.9900154 0.9878282\n",
       "2003 1.0335977 1.0136698 0.9941397 0.9856079 0.9843098 0.9900154 0.9878282\n",
       "2004 1.0335977 1.0136698 0.9941397 0.9856079 0.9843098 0.9900154 0.9878282\n",
       "2005 1.0335977 1.0136698 0.9941397 0.9856079 0.9843098 0.9900154 0.9878282\n",
       "2006 1.0335977 1.0136698 0.9941397 0.9856079 0.9843098 0.9900154 0.9878282\n",
       "2007 1.0335977 1.0136698 0.9941397 0.9856079 0.9843098 0.9900154 0.9878282\n",
       "2008 1.0335977 1.0136698 0.9941397 0.9856079 0.9843098 0.9900154 0.9878282\n",
       "2009 1.0335977 1.0136698 0.9941397 0.9856079 0.9843098 0.9900154 0.9878282\n",
       "2010 1.0335977 1.0136698 0.9941397 0.9856079 0.9843098 0.9900154 0.9878282\n",
       "2011 1.0335977 1.0136698 0.9941397 0.9856079 0.9843098 0.9900154 0.9878282\n",
       "2012 1.0335977 1.0136698 0.9941397 0.9856079 0.9843098 0.9900154 0.9878282\n",
       "2013 1.0335977 1.0136698 0.9941397 0.9856079 0.9843098 0.9900154 0.9878282\n",
       "2014 1.0335977 1.0136698 0.9941397 0.9856079 0.9843098 0.9900154 0.9878282\n",
       "2015 1.0335977 1.0136698 0.9941397 0.9856079 0.9843098 0.9900154 0.9878282\n",
       "2016 1.0335977 1.0136698 0.9941397 0.9856079 0.9843098 0.9900154 0.9878282\n",
       "2017 1.0335977 1.0136698 0.9941397 0.9856079 0.9843098 0.9900154 0.9878282\n",
       "           Aug       Sep       Oct       Nov       Dec\n",
       "1999           0.9987444 0.9878842 0.9984640 1.0280782\n",
       "2000 0.9976608 0.9987444 0.9878842 0.9984640 1.0280782\n",
       "2001 0.9976608 0.9987444 0.9878842 0.9984640 1.0280782\n",
       "2002 0.9976608 0.9987444 0.9878842 0.9984640 1.0280782\n",
       "2003 0.9976608 0.9987444 0.9878842 0.9984640 1.0280782\n",
       "2004 0.9976608 0.9987444 0.9878842 0.9984640 1.0280782\n",
       "2005 0.9976608 0.9987444 0.9878842 0.9984640 1.0280782\n",
       "2006 0.9976608 0.9987444 0.9878842 0.9984640 1.0280782\n",
       "2007 0.9976608 0.9987444 0.9878842 0.9984640 1.0280782\n",
       "2008 0.9976608 0.9987444 0.9878842 0.9984640 1.0280782\n",
       "2009 0.9976608 0.9987444 0.9878842 0.9984640 1.0280782\n",
       "2010 0.9976608 0.9987444 0.9878842 0.9984640 1.0280782\n",
       "2011 0.9976608 0.9987444 0.9878842 0.9984640 1.0280782\n",
       "2012 0.9976608 0.9987444 0.9878842 0.9984640 1.0280782\n",
       "2013 0.9976608 0.9987444 0.9878842 0.9984640 1.0280782\n",
       "2014 0.9976608 0.9987444 0.9878842 0.9984640 1.0280782\n",
       "2015 0.9976608 0.9987444 0.9878842 0.9984640 1.0280782\n",
       "2016 0.9976608 0.9987444 0.9878842 0.9984640 1.0280782\n",
       "2017 0.9976608 0.9987444 0.9878842 0.9984640 1.0280782\n",
       "\n",
       "$trend\n",
       "          Jan      Feb      Mar      Apr      May      Jun      Jul      Aug\n",
       "1999                                                                        \n",
       "2000       NA       NA 26.69327 26.43001 26.15229 26.00502 25.91221 25.80259\n",
       "2001 25.24519 25.33042 25.52065 25.75567 25.99187 26.11013 26.12017 26.13123\n",
       "2002 27.64292 28.03539 28.39313 28.76760 29.16870 29.64362 30.24018 30.87019\n",
       "2003 33.31127 33.54149 33.81944 34.14179 34.44359 34.74206 34.93024 35.04175\n",
       "2004 35.19195 35.32104 35.44456 35.55329 35.70943 35.81969 35.90003 35.99343\n",
       "2005 36.09363 36.08174 35.98522 35.79306 35.54913 35.26298 35.00415 34.75766\n",
       "2006 34.23308 34.15747 34.09675 34.08174 34.11010 34.17014 34.21921 34.28758\n",
       "2007 34.57146 34.63228 34.72347 34.85080 34.96870 35.06583 35.18788 35.34479\n",
       "2008 36.18516 36.29436 36.36936 36.34688 36.26258 36.51587 37.19074 37.95387\n",
       "2009 40.98814 41.77454 42.53842 43.22590 43.94497 44.31796 44.18348 43.83717\n",
       "2010 41.68370 41.13564 40.70803 40.60053 40.48188 40.26467 40.08832 39.97213\n",
       "2011 40.52288 40.64811 40.84886 40.88869 40.84298 40.87358 40.88906 40.84549\n",
       "2012 40.63845 40.58955 40.40512 40.20293 40.10578 40.01700 40.00543 40.08127\n",
       "2013 40.67591 40.98809 41.27794 41.56742 41.91099 42.32276 42.79970 43.46121\n",
       "2014 46.26406 46.61875 47.06915 47.65809 48.71381 50.42695 52.68709 54.76042\n",
       "2015 60.25653 62.02180 64.05422 65.84147 66.95034 67.74432 68.37085 69.14773\n",
       "2016 74.93657 75.25410 75.09928 74.90416 74.73648 74.00004 72.67678 71.07542\n",
       "2017 66.36226 66.08193 65.84270 65.66871 65.67207 65.94372       NA       NA\n",
       "          Sep      Oct      Nov      Dec\n",
       "1999       NA       NA       NA       NA\n",
       "2000 25.65974 25.56437 25.48865 25.33517\n",
       "2001 26.22485 26.40303 26.69389 27.15435\n",
       "2002 31.45926 32.01932 32.58155 33.02506\n",
       "2003 35.14201 35.18574 35.15000 35.13347\n",
       "2004 36.08351 36.16995 36.18669 36.12815\n",
       "2005 34.52522 34.36342 34.29220 34.27426\n",
       "2006 34.37495 34.44845 34.49286 34.52091\n",
       "2007 35.52343 35.69848 35.85891 36.03093\n",
       "2008 38.64834 39.25179 39.80571 40.35776\n",
       "2009 43.42678 43.01492 42.58868 42.13804\n",
       "2010 39.95680 40.06233 40.23555 40.41982\n",
       "2011 40.77225 40.63884 40.57051 40.61903\n",
       "2012 40.14399 40.23992 40.34379 40.43684\n",
       "2013 44.23127 44.97628 45.58055 45.96065\n",
       "2014 56.11791 56.98777 57.72521 58.83645\n",
       "2015 70.34908 71.70152 73.17775 74.24095\n",
       "2016 69.48220 68.24195 67.22618 66.63617\n",
       "2017       NA       NA       NA       NA\n",
       "\n",
       "$random\n",
       "           Jan       Feb       Mar       Apr       May       Jun       Jul\n",
       "1999                                                                      \n",
       "2000        NA        NA 1.0339963 0.9946400 1.0258118 1.0390218 1.0073441\n",
       "2001 1.0174844 1.0300865 0.9987271 1.0132522 0.9684744 0.9553597 0.9952548\n",
       "2002 0.9238597 0.9454362 0.9624563 0.9935078 1.0208652 1.0635915 1.0339748\n",
       "2003 0.9970216 1.0016648 1.0147155 1.0300585 1.0710329 1.0134183 0.9886429\n",
       "2004 0.9775821 0.9915628 0.9954643 0.9916931 1.0061375 0.9984377 0.9860038\n",
       "2005 0.9837258 1.0007651 1.0101596 1.0137876 0.9931841 0.9914833 1.0102196\n",
       "2006 0.9622044 0.9629135 0.9977924 1.0180247 1.0308621 1.0146590 1.0126933\n",
       "2007 0.9649655 0.9840564 1.0056007 1.0209668 1.0111575 1.0025764 1.0059057\n",
       "2008 0.9709729 0.9914944 1.0252458 1.0304595 1.0312438 1.0215150 0.9946739\n",
       "2009 1.0788568 1.0721773 1.0596533 1.0246751 1.0024814 0.9942747 1.0304842\n",
       "2010 0.9789651 0.9741206 0.9821076 0.9705307 0.9524278 0.9588089 0.9968485\n",
       "2011 0.9617316 0.9641520 0.9916335 1.0135235 0.9974619 1.0007091 0.9822736\n",
       "2012 0.9494041 0.9499170 0.9747689 0.9781419 1.0271223 1.0402392 0.9976103\n",
       "2013 0.9692192 0.9635558 0.9676785 0.9886888 1.0009452 1.0190831 1.0329912\n",
       "2014 0.9896727 1.0439807 1.0448264 1.0475323 0.9821943 0.9217876 0.9152763\n",
       "2015 1.2510224 1.0896195 0.9783626 0.8732965 0.8699193 0.9312440 0.9665647\n",
       "2016 1.0544371 1.0932138 1.0212248 1.0184379 1.0092123 0.9699458 1.0220136\n",
       "2017 0.9476497 0.9200587 0.9131131 0.9563097 0.9769928 1.0413717        NA\n",
       "           Aug       Sep       Oct       Nov       Dec\n",
       "1999                  NA        NA        NA        NA\n",
       "2000 0.9604918 0.9541188 0.9330562 0.9509776 1.0264397\n",
       "2001 1.0308975 1.0257743 1.0270659 0.9997265 0.9718021\n",
       "2002 1.0094104 0.9942948 0.9927800 0.9731488 0.9871278\n",
       "2003 0.9550118 1.0146481 1.0002463 1.0125396 1.0188447\n",
       "2004 0.9922677 1.0081520 1.0259089 1.0349561 1.0120111\n",
       "2005 1.0203358 0.9937252 1.0048575 0.9954971 0.9657562\n",
       "2006 1.0017338 0.9880919 1.0018561 1.0099885 0.9797760\n",
       "2007 0.9923713 0.9973619 1.0119652 1.0060308 0.9682792\n",
       "2008 0.9517076 0.9363209 0.8869308 0.8879825 1.0285091\n",
       "2009 1.0626919 1.0152799 1.0118699 1.0334064 0.9919923\n",
       "2010 0.9735438 1.0380535 1.0871945 1.0222262 0.9779469\n",
       "2011 1.0215807 1.0667118 1.0454537 1.0127884 0.9917013\n",
       "2012 1.0179958 0.9960045 1.0219005 0.9940730 0.9685634\n",
       "2013 1.0136137 0.9880345 0.9870638 0.9899956 0.9552295\n",
       "2014 0.8877483 0.8904415 0.9188924 1.0846916 1.1372175\n",
       "2015 1.0614042 1.0526898 0.9962826 0.9620484 1.0490537\n",
       "2016 1.0259692 1.0190717 1.0254507 1.0086979 0.9485245\n",
       "2017        NA        NA        NA        NA        NA\n",
       "\n",
       "$figure\n",
       " [1] 0.9987444 0.9878842 0.9984640 1.0280782 1.0335977 1.0136698 0.9941397\n",
       " [8] 0.9856079 0.9843098 0.9900154 0.9878282 0.9976608\n",
       "\n",
       "$type\n",
       "[1] \"multiplicative\"\n",
       "\n",
       "attr(,\"class\")\n",
       "[1] \"decomposed.ts\""
      ]
     },
     "metadata": {},
     "output_type": "display_data"
    }
   ],
   "source": [
    "decompose(eur_rub_rate,\"multiplicative\")"
   ]
  },
  {
   "cell_type": "code",
   "execution_count": 38,
   "metadata": {},
   "outputs": [
    {
     "data": {
      "image/png": "[encoded data removed]",
      "text/plain": [
       "plot without title"
      ]
     },
     "metadata": {},
     "output_type": "display_data"
    }
   ],
   "source": [
    "plot(decompose(eur_rub_rate,\"multiplicative\"))"
   ]
  },
  {
   "cell_type": "code",
   "execution_count": 40,
   "metadata": {},
   "outputs": [
    {
     "data": {
      "text/plain": [
       "           Jan       Feb       Mar       Apr       May       Jun       Jul\n",
       "2000                     1.0339963 0.9946400 1.0258118 1.0390218 1.0073441\n",
       "2001 1.0174844 1.0300865 0.9987271 1.0132522 0.9684744 0.9553597 0.9952548\n",
       "2002 0.9238597 0.9454362 0.9624563 0.9935078 1.0208652 1.0635915 1.0339748\n",
       "2003 0.9970216 1.0016648 1.0147155 1.0300585 1.0710329 1.0134183 0.9886429\n",
       "2004 0.9775821 0.9915628 0.9954643 0.9916931 1.0061375 0.9984377 0.9860038\n",
       "2005 0.9837258 1.0007651 1.0101596 1.0137876 0.9931841 0.9914833 1.0102196\n",
       "2006 0.9622044 0.9629135 0.9977924 1.0180247 1.0308621 1.0146590 1.0126933\n",
       "2007 0.9649655 0.9840564 1.0056007 1.0209668 1.0111575 1.0025764 1.0059057\n",
       "2008 0.9709729 0.9914944 1.0252458 1.0304595 1.0312438 1.0215150 0.9946739\n",
       "2009 1.0788568 1.0721773 1.0596533 1.0246751 1.0024814 0.9942747 1.0304842\n",
       "2010 0.9789651 0.9741206 0.9821076 0.9705307 0.9524278 0.9588089 0.9968485\n",
       "2011 0.9617316 0.9641520 0.9916335 1.0135235 0.9974619 1.0007091 0.9822736\n",
       "2012 0.9494041 0.9499170 0.9747689 0.9781419 1.0271223 1.0402392 0.9976103\n",
       "2013 0.9692192 0.9635558 0.9676785 0.9886888 1.0009452 1.0190831 1.0329912\n",
       "2014 0.9896727 1.0439807 1.0448264 1.0475323 0.9821943 0.9217876 0.9152763\n",
       "2015 1.2510224 1.0896195 0.9783626 0.8732965 0.8699193 0.9312440 0.9665647\n",
       "2016 1.0544371 1.0932138 1.0212248 1.0184379 1.0092123 0.9699458 1.0220136\n",
       "2017 0.9476497 0.9200587 0.9131131 0.9563097 0.9769928 1.0413717          \n",
       "           Aug       Sep       Oct       Nov       Dec\n",
       "2000 0.9604918 0.9541188 0.9330562 0.9509776 1.0264397\n",
       "2001 1.0308975 1.0257743 1.0270659 0.9997265 0.9718021\n",
       "2002 1.0094104 0.9942948 0.9927800 0.9731488 0.9871278\n",
       "2003 0.9550118 1.0146481 1.0002463 1.0125396 1.0188447\n",
       "2004 0.9922677 1.0081520 1.0259089 1.0349561 1.0120111\n",
       "2005 1.0203358 0.9937252 1.0048575 0.9954971 0.9657562\n",
       "2006 1.0017338 0.9880919 1.0018561 1.0099885 0.9797760\n",
       "2007 0.9923713 0.9973619 1.0119652 1.0060308 0.9682792\n",
       "2008 0.9517076 0.9363209 0.8869308 0.8879825 1.0285091\n",
       "2009 1.0626919 1.0152799 1.0118699 1.0334064 0.9919923\n",
       "2010 0.9735438 1.0380535 1.0871945 1.0222262 0.9779469\n",
       "2011 1.0215807 1.0667118 1.0454537 1.0127884 0.9917013\n",
       "2012 1.0179958 0.9960045 1.0219005 0.9940730 0.9685634\n",
       "2013 1.0136137 0.9880345 0.9870638 0.9899956 0.9552295\n",
       "2014 0.8877483 0.8904415 0.9188924 1.0846916 1.1372175\n",
       "2015 1.0614042 1.0526898 0.9962826 0.9620484 1.0490537\n",
       "2016 1.0259692 1.0190717 1.0254507 1.0086979 0.9485245\n",
       "2017                                                  "
      ]
     },
     "metadata": {},
     "output_type": "display_data"
    }
   ],
   "source": [
    "random_multiplicative <- (decompose(eur_rub_rate,\"multiplicative\"))$random\n",
    "random_multiplicative <- na.omit(random_multiplicative)\n",
    "random_multiplicative"
   ]
  },
  {
   "cell_type": "code",
   "execution_count": 41,
   "metadata": {},
   "outputs": [
    {
     "data": {
      "image/png": "[encoded data removed]",
      "text/plain": [
       "plot without title"
      ]
     },
     "metadata": {},
     "output_type": "display_data"
    }
   ],
   "source": [
    "plot(random_multiplicative)"
   ]
  },
  {
   "cell_type": "code",
   "execution_count": 42,
   "metadata": {},
   "outputs": [
    {
     "data": {
      "image/png": "[encoded data removed]",
      "text/plain": [
       "Plot with title \"Series  ts(random_multiplicative)\""
      ]
     },
     "metadata": {},
     "output_type": "display_data"
    },
    {
     "data": {
      "image/png": "[encoded data removed]",
      "text/plain": [
       "Plot with title \"Series  ts(random_multiplicative)\""
      ]
     },
     "metadata": {},
     "output_type": "display_data"
    }
   ],
   "source": [
    "acf(ts(random_multiplicative))\n",
    "pacf(ts(random_multiplicative))"
   ]
  },
  {
   "cell_type": "code",
   "execution_count": 43,
   "metadata": {},
   "outputs": [
    {
     "data": {
      "text/plain": [
       "Series: random_multiplicative \n",
       "ARIMA(2,0,1)(0,0,2)[12] with non-zero mean \n",
       "\n",
       "Coefficients:\n",
       "         ar1      ar2      ma1     sma1     sma2    mean\n",
       "      1.4570  -0.7843  -0.7570  -0.2429  -0.1379  0.9993\n",
       "s.e.  0.0575   0.0436   0.0872   0.0750   0.0846  0.0009\n",
       "\n",
       "sigma^2 estimated as 0.0007415:  log likelihood=455.86\n",
       "AIC=-897.73   AICc=-897.17   BIC=-874.36"
      ]
     },
     "metadata": {},
     "output_type": "display_data"
    }
   ],
   "source": [
    "auto.arima(random_multiplicative)"
   ]
  },
  {
   "cell_type": "code",
   "execution_count": 45,
   "metadata": {},
   "outputs": [
    {
     "data": {
      "text/plain": [
       "\n",
       "Call:\n",
       "arima(x = random_multiplicative, order = c(2, 0, 1))\n",
       "\n",
       "Coefficients:\n",
       "         ar1      ar2      ma1  intercept\n",
       "      1.4344  -0.7739  -0.7157     0.9992\n",
       "s.e.  0.0647   0.0455   0.1005     0.0016\n",
       "\n",
       "sigma^2 estimated as 0.0007679:  log likelihood = 449.93,  aic = -889.85"
      ]
     },
     "metadata": {},
     "output_type": "display_data"
    }
   ],
   "source": [
    "res2 <- arima(random_multiplicative, c(2,0,1))\n",
    "res2"
   ]
  },
  {
   "cell_type": "code",
   "execution_count": 46,
   "metadata": {},
   "outputs": [
    {
     "data": {
      "image/png": "[encoded data removed]",
      "text/plain": [
       "plot without title"
      ]
     },
     "metadata": {},
     "output_type": "display_data"
    }
   ],
   "source": [
    "plot(res2$residuals)"
   ]
  },
  {
   "cell_type": "code",
   "execution_count": 47,
   "metadata": {},
   "outputs": [
    {
     "data": {
      "text/plain": [
       "      Min.    1st Qu.     Median       Mean    3rd Qu.       Max. \n",
       "-7.312e-02 -1.651e-02 -5.666e-05  6.976e-05  1.338e-02  1.269e-01 "
      ]
     },
     "metadata": {},
     "output_type": "display_data"
    }
   ],
   "source": [
    "res_multiplicative <- res2$residuals\n",
    "summary(res_multiplicative)"
   ]
  },
  {
   "cell_type": "code",
   "execution_count": 48,
   "metadata": {},
   "outputs": [
    {
     "data": {
      "text/html": [
       "208"
      ],
      "text/latex": [
       "208"
      ],
      "text/markdown": [
       "208"
      ],
      "text/plain": [
       "[1] 208"
      ]
     },
     "metadata": {},
     "output_type": "display_data"
    }
   ],
   "source": [
    "x_mult= (res_multiplicative - mean(res_multiplicative)) / sqrt(var(res_multiplicative))\n",
    "length(x_mult)"
   ]
  },
  {
   "cell_type": "code",
   "execution_count": 49,
   "metadata": {},
   "outputs": [
    {
     "data": {
      "text/plain": [
       "\n",
       "\tTwo-sample Kolmogorov-Smirnov test\n",
       "\n",
       "data:  x_mult and rnorm(500)\n",
       "D = 0.066462, p-value = 0.5352\n",
       "alternative hypothesis: two-sided\n"
      ]
     },
     "metadata": {},
     "output_type": "display_data"
    }
   ],
   "source": [
    "ks.test(x_mult,rnorm(500))"
   ]
  },
  {
   "cell_type": "code",
   "execution_count": 50,
   "metadata": {},
   "outputs": [
    {
     "data": {
      "text/plain": [
       "\n",
       "\tTwo-sample Kolmogorov-Smirnov test\n",
       "\n",
       "data:  x_mult and rnorm(500)\n",
       "D = 0.085962, p-value = 0.2278\n",
       "alternative hypothesis: two-sided\n"
      ]
     },
     "metadata": {},
     "output_type": "display_data"
    }
   ],
   "source": [
    "ks.test(x_mult,rnorm(500))"
   ]
  },
  {
   "cell_type": "markdown",
   "metadata": {},
   "source": [
    "##### p-value is not high enough."
   ]
  },
  {
   "cell_type": "markdown",
   "metadata": {},
   "source": [
    "### Question:\n",
    "Why are they in the form of ARIMA(..)(..) ? \n",
    "And why is the second one  'with the non-zero mean' ?"
   ]
  },
  {
   "cell_type": "markdown",
   "metadata": {},
   "source": [
    "## ' stl '   instead of   'decompose'"
   ]
  },
  {
   "cell_type": "code",
   "execution_count": 53,
   "metadata": {},
   "outputs": [
    {
     "data": {
      "text/plain": [
       " Call:\n",
       " stl(x = eur_rub_rate, s.window = \"periodic\")\n",
       "\n",
       "Components\n",
       "             seasonal    trend   remainder\n",
       "Sep 1999 -0.003893846 27.48148 -0.76288123\n",
       "Oct 1999 -0.502331849 27.35270  0.76902922\n",
       "Nov 1999 -0.011059690 27.22393 -0.40107049\n",
       "Dec 1999  1.212764369 27.07774 -0.63080718\n",
       "Jan 2000  1.711395092 26.93156 -0.79045054\n",
       "Feb 2000  0.763151984 26.76700  0.24715299\n",
       "Mar 2000 -0.406626744 26.60243  1.24319215\n",
       "Apr 2000 -0.880546472 26.43169  0.35885682\n",
       "May 2000 -0.990151524 26.26094  1.13560682\n",
       "Jun 2000 -0.654537839 26.08331  1.32122699\n",
       "Jul 2000 -0.375911503 25.90568  0.25503451\n",
       "Aug 2000  0.137747893 25.74250 -1.15504704\n",
       "Sep 2000 -0.003893846 25.57932 -1.12372745\n",
       "Oct 2000 -0.502331849 25.46313 -1.39680093\n",
       "Nov 2000 -0.011059690 25.34694 -1.13398456\n",
       "Dec 2000  1.212764369 25.32863  0.19380154\n",
       "Jan 2001  1.711395092 25.31032 -0.47211901\n",
       "Feb 2001  0.763151984 25.43678  0.24926687\n",
       "Mar 2001 -0.406626744 25.56324  0.18218837\n",
       "Apr 2001 -0.880546472 25.75182  0.85012523\n",
       "May 2001 -0.990151524 25.94040 -0.17275258\n",
       "Jun 2001 -0.654537839 26.04735 -0.69730983\n",
       "Jul 2001 -0.375911503 26.15429 -0.09857973\n",
       "Aug 2001  0.137747893 26.22608  0.51177108\n",
       "Sep 2001 -0.003893846 26.29787  0.57302302\n",
       "Oct 2001 -0.502331849 26.49914  0.79229104\n",
       "Nov 2001 -0.011059690 26.70041 -0.04375111\n",
       "Dec 2001  1.212764369 27.07261 -1.15577273\n",
       "Jan 2002  1.711395092 27.44481 -2.76000103\n",
       "Feb 2002  0.763151984 27.87849 -1.77364079\n",
       "Mar 2002 -0.406626744 28.31217 -0.73854493\n",
       "Apr 2002 -0.880546472 28.79476  0.25529094\n",
       "May 2002 -0.990151524 29.27734  1.02291213\n",
       "Jun 2002 -0.654537839 29.82639  2.04205227\n",
       "Jul 2002 -0.375911503 30.37543  0.88747975\n",
       "Aug 2002  0.137747893 30.91857  0.03148555\n",
       "Sep 2002 -0.003893846 31.46170 -0.21730752\n",
       "Oct 2002 -0.502331849 31.94889 -0.04355509\n",
       "Nov 2002 -0.011059690 32.43607 -0.76701282\n",
       "Dec 2002  1.212764369 32.84611 -0.54357318\n",
       "Jan 2003  1.711395092 33.25615 -0.63964020\n",
       "Feb 2003  0.763151984 33.59616 -0.30271006\n",
       "Mar 2003 -0.406626744 33.93617  0.58645568\n",
       "Apr 2003 -0.880546472 34.23350  1.30894185\n",
       "May 2003 -0.990151524 34.53084  2.77071335\n",
       "Jun 2003 -0.654537839 34.74012  0.77111556\n",
       "Jul 2003 -0.375911503 34.94941 -0.46029488\n",
       "Aug 2003  0.137747893 35.02298 -1.77372642\n",
       "Sep 2003 -0.003893846 35.09655  0.51934318\n",
       "Oct 2003 -0.502331849 35.10702  0.16330941\n",
       "Nov 2003 -0.011059690 35.11749  0.42966015\n",
       "Dec 2003  1.212764369 35.16749  0.42036728\n",
       "Jan 2004  1.711395092 35.21749 -1.37000743\n",
       "Feb 2004  0.763151984 35.32100 -0.58236711\n",
       "Mar 2004 -0.406626744 35.42450  0.05914449\n",
       "Apr 2004 -0.880546472 35.55015  0.08091212\n",
       "May 2004 -0.990151524 35.67580  0.67922581\n",
       "Jun 2004 -0.654537839 35.80236  0.25881546\n",
       "Jul 2004 -0.375911503 35.92893 -0.58629700\n",
       "Aug 2004  0.137747893 36.01994 -0.52611458\n",
       "Sep 2004 -0.003893846 36.11095  0.22493339\n",
       "Oct 2004 -0.502331849 36.14380  1.01601709\n",
       "Nov 2004 -0.011059690 36.17666  1.22850818\n",
       "Dec 2004  1.212764369 36.15775  0.21816247\n",
       "Jan 2005  1.711395092 36.13884 -1.15107346\n",
       "Feb 2005  0.763151984 36.04145 -0.20164244\n",
       "Mar 2005 -0.406626744 35.94405  0.60036286\n",
       "Apr 2005 -0.880546472 35.75486  0.89000221\n",
       "May 2005 -0.990151524 35.56567  0.17734166\n",
       "Jun 2005 -0.654537839 35.31311 -0.04500362\n",
       "Jul 2005 -0.375911503 35.06056  0.24681848\n",
       "Aug 2005  0.137747893 34.80756  0.43621113\n",
       "Sep 2005 -0.003893846 34.55456 -0.28516183\n",
       "Oct 2005 -0.502331849 34.38800  0.22630897\n",
       "Nov 2005 -0.011059690 34.22144 -0.12503067\n",
       "Dec 2005  1.212764369 34.16678 -1.34956332\n",
       "Jan 2006  1.711395092 34.11213 -1.77762345\n",
       "Feb 2006  0.763151984 34.10383 -1.52668495\n",
       "Mar 2006 -0.406626744 34.09554  0.13318918\n",
       "Apr 2006 -0.880546472 34.14192  0.93532538\n",
       "May 2006 -0.990151524 34.18830  1.41294614\n",
       "Jun 2006 -0.654537839 34.24859  0.73081135\n",
       "Jul 2006 -0.375911503 34.30888  0.29880202\n",
       "Aug 2006  0.137747893 34.33736 -0.20842079\n",
       "Sep 2006 -0.003893846 34.36583 -0.43897407\n",
       "Oct 2006 -0.502331849 34.38405  0.21252904\n",
       "Nov 2006 -0.011059690 34.40226  0.39267449\n",
       "Dec 2006  1.212764369 34.46429 -0.90462085\n",
       "Jan 2007  1.711395092 34.52633 -1.75662245\n",
       "Feb 2007  0.763151984 34.62903 -0.84619801\n",
       "Mar 2007 -0.406626744 34.73173  0.38821337\n",
       "Apr 2007 -0.880546472 34.86711  1.08286053\n",
       "May 2007 -0.990151524 35.00248  0.79174832\n",
       "Jun 2007 -0.654537839 35.13241  0.32727496\n",
       "Jul 2007 -0.375911503 35.26234  0.07843078\n",
       "Aug 2007  0.137747893 35.38380 -0.52844497\n",
       "Sep 2007 -0.003893846 35.50526 -0.11614324\n",
       "Oct 2007 -0.502331849 35.64602  0.54423771\n",
       "Nov 2007 -0.011059690 35.78678  0.24403370\n",
       "Dec 2007  1.212764369 35.95846 -1.30362737\n",
       "Jan 2008  1.711395092 36.13014 -1.52627593\n",
       "Feb 2008  0.763151984 36.24852 -0.53409384\n",
       "Mar 2008 -0.406626744 36.36689  1.10875441\n",
       "Apr 2008 -0.880546472 36.45197  1.34352699\n",
       "May 2008 -0.990151524 36.53705  1.26191655\n",
       "Jun 2008 -0.654537839 36.84717  0.73643353\n",
       "Jul 2008 -0.375911503 37.15728 -0.23897819\n",
       "Aug 2008  0.137747893 37.72855 -1.82980316\n",
       "Sep 2008 -0.003893846 38.29982 -2.15411331\n",
       "Oct 2008 -0.502331849 38.96984 -4.07567558\n",
       "Nov 2008 -0.011059690 39.63986 -4.33631325\n",
       "Dec 2008  1.212764369 40.39443  1.06661198\n",
       "Jan 2009  1.711395092 41.14900  2.84563617\n",
       "Feb 2009  0.763151984 41.95491  2.68392191\n",
       "Mar 2009 -0.406626744 42.76081  2.45763335\n",
       "Apr 2009 -0.880546472 43.36006  1.17552265\n",
       "May 2009 -0.990151524 43.95931  0.39363356\n",
       "Jun 2009 -0.654537839 44.06582  0.21298155\n",
       "Jul 2009 -0.375911503 44.17233  1.17977481\n",
       "Aug 2009  0.137747893 43.86184  2.47684788\n",
       "Sep 2009 -0.003893846 43.55136  0.48750684\n",
       "Oct 2009 -0.502331849 43.08747  0.41301914\n",
       "Nov 2009 -0.011059690 42.62358  1.33128894\n",
       "Dec 2009  1.212764369 42.10668 -0.34514764\n",
       "Jan 2010  1.711395092 41.58978 -1.12326465\n",
       "Feb 2010  0.763151984 41.14993 -1.29424732\n",
       "Mar 2010 -0.406626744 40.71009 -0.55808647\n",
       "Apr 2010 -0.880546472 40.49649 -0.77899122\n",
       "May 2010 -0.990151524 40.28289 -1.34162383\n",
       "Jun 2010 -0.654537839 40.19424 -1.31904551\n",
       "Jul 2010 -0.375911503 40.10558 -0.25409394\n",
       "Aug 2010  0.137747893 40.09806 -1.41221474\n",
       "Sep 2010 -0.003893846 40.09053  1.33858193\n",
       "Oct 2010 -0.502331849 40.18012  3.35004829\n",
       "Nov 2010 -0.011059690 40.26971  0.80801130\n",
       "Dec 2010  1.212764369 40.38727 -0.96171048\n",
       "Jan 2011  1.711395092 40.50484 -1.93472862\n",
       "Feb 2011  0.763151984 40.59582 -1.63229239\n",
       "Mar 2011 -0.406626744 40.68681 -0.01046975\n",
       "Apr 2011 -0.880546472 40.77311  0.95265481\n",
       "May 2011 -0.990151524 40.85941  0.23085846\n",
       "Jun 2011 -0.654537839 40.91868  0.23001903\n",
       "Jul 2011 -0.375911503 40.97796 -0.92667026\n",
       "Aug 2011  0.137747893 40.92053  0.57107897\n",
       "Sep 2011 -0.003893846 40.86310  2.57841936\n",
       "Oct 2011 -0.502331849 40.75341  1.72019374\n",
       "Nov 2011 -0.011059690 40.64371  0.39357067\n",
       "Dec 2011  1.212764369 40.56569 -0.36546823\n",
       "Jan 2012  1.711395092 40.48767 -2.32047544\n",
       "Feb 2012  0.763151984 40.38899 -2.06837436\n",
       "Mar 2012 -0.406626744 40.29031 -0.72884334\n",
       "Apr 2012 -0.880546472 40.21306 -0.57430489\n",
       "May 2012 -0.990151524 40.13581  1.40154967\n",
       "Jun 2012 -0.654537839 40.14118  1.72497791\n",
       "Jul 2012 -0.375911503 40.14655 -0.34658327\n",
       "Aug 2012  0.137747893 40.16815  0.40121983\n",
       "Sep 2012 -0.003893846 40.18975 -0.25246914\n",
       "Oct 2012 -0.502331849 40.22707  0.89824395\n",
       "Nov 2012 -0.011059690 40.26439 -0.21025386\n",
       "Dec 2012  1.212764369 40.42087 -1.36828823\n",
       "Jan 2013  1.711395092 40.57736 -1.54032223\n",
       "Feb 2013  0.763151984 40.87584 -1.60479870\n",
       "Mar 2013 -0.406626744 41.17432 -1.05799955\n",
       "Apr 2013 -0.880546472 41.56883 -0.18251921\n",
       "May 2013 -0.990151524 41.96334  0.31920509\n",
       "Jun 2013 -0.654537839 42.46064  0.89366346\n",
       "Jul 2013 -0.375911503 42.95795  1.09154213\n",
       "Aug 2013  0.137747893 43.57309  0.23899056\n",
       "Sep 2013 -0.003893846 44.18824 -0.53720122\n",
       "Oct 2013 -0.502331849 44.78901 -0.43009499\n",
       "Nov 2013 -0.011059690 45.38978 -0.32349070\n",
       "Dec 2013  1.212764369 45.86283 -1.93991304\n",
       "Jan 2014  1.711395092 46.33588 -0.72269402\n",
       "Feb 2014  0.763151984 46.79566  1.77555567\n",
       "Mar 2014 -0.406626744 47.25543  2.04208246\n",
       "Apr 2014 -0.880546472 48.09363  1.99179591\n",
       "May 2014 -0.990151524 48.93184 -0.84598113\n",
       "Jun 2014 -0.654537839 50.46932 -3.79595852\n",
       "Jul 2014 -0.375911503 52.00681 -3.99462026\n",
       "Aug 2014  0.137747893 53.74940 -5.38739495\n",
       "Sep 2014 -0.003893846 55.49198 -5.58111775\n",
       "Oct 2014 -0.502331849 56.92394 -4.69043077\n",
       "Nov 2014 -0.011059690 58.35591  4.17303231\n",
       "Dec 2014  1.212764369 59.72665  7.84913340\n",
       "Jan 2015  1.711395092 61.09738 15.10615980\n",
       "Feb 2015  0.763151984 62.56652  5.17429201\n",
       "Mar 2015 -0.406626744 64.03566 -1.32803998\n",
       "Apr 2015 -0.880546472 65.16486 -7.61272156\n",
       "May 2015 -0.990151524 66.29406 -7.97633269\n",
       "Jun 2015 -0.654537839 67.17812 -4.06698190\n",
       "Jul 2015 -0.375911503 68.06217 -2.40578138\n",
       "Aug 2015  0.137747893 69.29002  3.79424075\n",
       "Sep 2015 -0.003893846 70.51787  3.44879650\n",
       "Oct 2015 -0.502331849 71.94141 -0.86959634\n",
       "Nov 2015 -0.011059690 73.36495 -3.06148840\n",
       "Dec 2015  1.212764369 74.22889  4.62789714\n",
       "Jan 2016  1.711395092 75.09282  4.86643537\n",
       "Feb 2016  0.763151984 75.25607  7.37419492\n",
       "Mar 2016 -0.406626744 75.41932  1.23110698\n",
       "Apr 2016 -0.880546472 75.01705  1.05082132\n",
       "May 2016 -0.990151524 74.61478  0.61690825\n",
       "Jun 2016 -0.654537839 73.58938 -1.87547193\n",
       "Jul 2016 -0.375911503 72.56398  1.18450421\n",
       "Aug 2016  0.137747893 71.15154  1.46132555\n",
       "Sep 2016 -0.003893846 69.73909  0.98323074\n",
       "Oct 2016 -0.502331849 68.54688  1.08636236\n",
       "Nov 2016 -0.011059690 67.35467  0.36313677\n",
       "Dec 2016  1.212764369 66.65913 -2.89114261\n",
       "Jan 2017  1.711395092 65.96359 -2.67390602\n",
       "Feb 2017  0.763151984 65.70850 -4.84128981\n",
       "Mar 2017 -0.406626744 65.45342 -5.27729226\n",
       "Apr 2017 -0.880546472 65.81389 -3.03753425\n",
       "May 2017 -0.990151524 66.17437 -2.02978577\n",
       "Jun 2017 -0.654537839 66.56735  2.07345870\n",
       "Jul 2017 -0.375911503 66.96032  3.28753879\n",
       "Aug 2017  0.137747893 67.43697  1.94847459\n",
       "Sep 2017 -0.003893846 67.91362  0.29461112\n",
       "Oct 2017 -0.502331849 68.44387 -0.47215826\n",
       "Nov 2017 -0.011059690 68.97413  0.48569478\n",
       "Dec 2017  1.212764369 69.52385 -0.97814757"
      ]
     },
     "metadata": {},
     "output_type": "display_data"
    }
   ],
   "source": [
    "stl(eur_rub_rate,\"periodic\")"
   ]
  },
  {
   "cell_type": "code",
   "execution_count": 54,
   "metadata": {},
   "outputs": [
    {
     "data": {
      "image/png": "[encoded data removed]",
      "text/plain": [
       "plot without title"
      ]
     },
     "metadata": {},
     "output_type": "display_data"
    }
   ],
   "source": [
    "plot(stl(eur_rub_rate,\"periodic\"))"
   ]
  },
  {
   "cell_type": "code",
   "execution_count": 55,
   "metadata": {},
   "outputs": [
    {
     "data": {
      "text/plain": [
       "NULL"
      ]
     },
     "metadata": {},
     "output_type": "display_data"
    }
   ],
   "source": [
    "stl(eur_rub_rate,\"periodic\")$remainder"
   ]
  },
  {
   "cell_type": "code",
   "execution_count": null,
   "metadata": {
    "collapsed": true
   },
   "outputs": [],
   "source": []
  }
 ],
 "metadata": {
  "kernelspec": {
   "display_name": "R",
   "language": "R",
   "name": "ir"
  },
  "language_info": {
   "codemirror_mode": "r",
   "file_extension": ".r",
   "mimetype": "text/x-r-source",
   "name": "R",
   "pygments_lexer": "r",
   "version": "3.4.1"
  }
 },
 "nbformat": 4,
 "nbformat_minor": 2
}
