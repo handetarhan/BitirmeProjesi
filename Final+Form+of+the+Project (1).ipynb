{
 "cells": [
  {
   "cell_type": "markdown",
   "metadata": {
    "collapsed": true
   },
   "source": [
    "# CURRENCY\n",
    "\n",
    "## What is Currency?\n",
    "\n",
    " Currency is a generally accepted form of money such as coins, treasury notes, and banknotes that is in circulation as a medium of exchange.Usually, each country has its own currency. For instance, Turkey's official currency is Turkish Lira, Japan's is the yen. Although, Euro is used as a currency of  different European countries.Some currencies like online currency( Bitcoins) or branded currency ( credit card points) are not affiliated to any countries. Their values depend on the products they are connected to. ISO 4217 arranges the three-letter codes for representation of currencies. For instance, the three-letter code of Euro is \"EUR\", Russian Rouble is represented by \"RUB\", U.S Dollar is \"USD\".\n",
    " A currency is called convertible if it can be converted into another currency without government restrictions. It is very important for international trade. Sometimes government  wants to control hot money flows and do not allow the currencies to participate the Foreign Exchange Market and they are not allowed to be converted.When a currency is not convertible, it is risky trade with foreigners who do not need the domestic currency. Exchange rate is used when two currencies are converted into one another.The most important factor affecting the exchange rate is the supply demand factor. The exchange rate / exchange rates are determined at the point where the supply and demand intersect. Foreign exchange demand of any country reflects its current deficit. The fact that the foreign currencies spent in the country are more than the foreign currencies entering the country, causes the current account deficit problem.Foreign exchange rates move downward in a country's economy where demand is sought. On the contrary, foreign exchange rates move upwards in a country economy where demand is high.\n",
    " In the economies where the fixed exchange rate regime is applied, the exchange rate is bought and sold at a fixed price determined by the central bank of that country. Here is a question that may come to mind; does not the exchange rate move up or down in any way? Of course, but central banks can keep the exchange rate constant over the price determined by means of measures to compensate for this increase / decrease using the instruments in hand.\n",
    "  \n",
    " In the nominal effective exchange rate, the size of the foreign trade in which an country is made by other countries is used as weight. Returns the relative value of the local currency.\n",
    " The real effective exchange rate index is calculated in various forms. A group of these are the effective exchange rate indices described above, which are calculated by taking into account inflation rates of the countries where basket currencies belong to and the inflation rates of the local country. The other is the real exchange rate index which is taken into account the unit labor costs of the countries.\n",
    "\n",
    " If a floating exchange rate regime is exercised in a country, then the value of the country's currency against foreign currencies, ie the exchange rate, is determined. If the foreign exchange is regarded as a kind of commodity, it can be seen that the exchange rate which is its price is determined according to the supply and demand rules like the price of the other commodities. In a country there is plenty of foreign currency, domestic currency is short, exchange rate is low,on the other hand, foreign exchange is scarce, domestic currency is abundant if the exchange rate is high. In the floating exchange rate regime, the exchange rates constantly rise or fall according to the movements in the market. If the value of an country loses value against the foreign currency, it is called \"depreciation\"; if it gains value, it is called \"value appreciation\". Exchange rates are also affected by inflation,interest rates,capital and political factors.\n",
    " Foreign Exchange Market is a great market which provides trading currency to the financiers.It is decentralized and has large number of participants.Foreign Exchange Market is worldâ€™s largest financial market in which currencies are traded.(buy, sell, exchange,speculate)\n",
    "\n",
    " The purpose of creating this market is that money from international trade can easily flow. Some important functions of FX Market are setting the prices of currencies with respect to others, financing international commerce whose transactions represent a important part of the foreign exchange market ,allowing the exchange rate to take place when investments are made in another currency and supporting the exchange of funds between countries. Therefore need of liquidity of the countries can be observed. (Liquidity is the name given to the ease with which a financial product, securities or real estate can be converted into cash.) \n",
    "\n",
    " Forex provides the most recent rates for $\"International Currency Converter\"$ which is an electronic program for convert one currency to another quickly.In FX Market, currencies are quoted as currency pairs. First part is Â«base currencyÂ» and the second part of the quotation is $«counter»$ or $«quote currency»$.These currency pairs are demonstrates that how much counter currency is needed to buy one unit of base currency.The main qoute currencies in world are Euro,U.S dollar, British pound etc. Currency pairs can be divided into two types which are \"direct\" and \"indirect\". In a direct quote; the native currency is the base currency while the foreign currency is the quote currency. On the opposite way; in indirect quote, the foreign currency is the base currency and the native currency is the quote currency. For example, for an American trader, the EUR/USD quote is an indirect one.\n",
    "\n",
    "\n",
    "### About my data:\n",
    " \n",
    "#### EUR/USD :\n",
    " It is the one of the most  used exchange rates in the world. I want to give a short information about it.\n",
    " The EUR/USD is affected by factors that influence the value of the euro and/or the U.S. dollar in relation to each other and to other currencies. For this reason, when compared to each other value of these currencies are affected by the interest rate difference between the European Central Bank (ECB) and the Federal Reserve (Fed). When the Fed interferes in open market activities to make the U.S. dollar stronger, for example, the value of the EUR/USD cross could decline due to a strengthening of the U.S. dollar compared to the euro.\n",
    "\n",
    "\n",
    " I used online datas from Quandl:\n",
    "\n",
    "### https://www.quandl.com/data/CURRFX/EURRUB-Currency-Exchange-Rates-EUR-vs-RUB:\n",
    " This exchange rate shows the value of 1 Euro in Russian Roubles. This exchange rate is an amalgamation of rates from multiple sources. These include exchanges, brokerages, newspapers and central bank sources. High and Low rates are crudely estimated.\n",
    "\n",
    "### https://www.quandl.com/data/CURRFX/EURUSD-Currency-Exchange-Rates-EUR-vs-USD:\n",
    " This exchange rate shows the value of 1 Euro in U.S. Dollars. This exchange rate is an ama:lgamation of rates from multiple sources. These include exchanges, brokerages, newspapers and central bank sources. High and Low rates are crudely estimated. The data has 4 columns and 5381 rows\n",
    "\n",
    " The columns:\n",
    "Date: demonstrates the dates; it can be daily,weekly,monthly or annual.\n",
    "Rate:\n",
    "High(est):demonstrates the highest price of the time period.\n",
    "Low(est): demonstrates the lowest price of the time period.\n"
   ]
  },
  {
   "cell_type": "code",
   "execution_count": 4,
   "metadata": {},
   "outputs": [],
   "source": [
    "library(Quandl)"
   ]
  },
  {
   "cell_type": "code",
   "execution_count": 5,
   "metadata": {
    "collapsed": true
   },
   "outputs": [],
   "source": [
    "eur_rub= Quandl(\"CURRFX/EURRUB\", collapse=\"monthly\",type=\"ts\")"
   ]
  },
  {
   "cell_type": "code",
   "execution_count": 6,
   "metadata": {},
   "outputs": [
    {
     "data": {
      "image/png": "[encoded data removed]",
      "text/plain": [
       "plot without title"
      ]
     },
     "metadata": {},
     "output_type": "display_data"
    }
   ],
   "source": [
    "plot(eur_rub)"
   ]
  },
  {
   "cell_type": "code",
   "execution_count": 7,
   "metadata": {
    "collapsed": true
   },
   "outputs": [],
   "source": [
    "# I will use only the 'rate' part of the data."
   ]
  },
  {
   "cell_type": "code",
   "execution_count": 8,
   "metadata": {},
   "outputs": [
    {
     "data": {
      "text/plain": [
       "          Jan      Feb      Mar      Apr      May      Jun      Jul      Aug\n",
       "1999                                                                        \n",
       "2000 27.85250 27.77730 27.43900 25.91000 26.40640 26.75000 25.78480 24.72520\n",
       "2001 26.54960 26.44920 25.33880 25.72140 24.77750 24.69550 25.67980 26.87560\n",
       "2002 26.39620 26.86800 27.16700 28.16950 29.31010 31.21390 30.88700 31.08780\n",
       "2003 34.32790 34.05660 34.11600 34.66190 36.31140 34.85670 34.11320 33.38700\n",
       "2004 35.55888 35.50178 35.07702 34.75051 35.36487 35.40664 34.96672 35.63157\n",
       "2005 36.69917 36.60296 36.13779 35.76432 34.75286 34.61357 34.93147 35.38152\n",
       "2006 34.04590 33.34030 33.82210 34.19670 34.61110 34.32487 34.23177 34.26669\n",
       "2007 34.48110 34.54598 34.71332 35.06942 34.80408 34.80515 34.96486 34.99311\n",
       "2008 36.31526 36.47757 37.06902 36.91495 36.80882 36.92906 36.54239 36.03650\n",
       "2009 45.70603 45.40198 44.81182 43.65504 43.36280 43.62426 44.97619 46.47644\n",
       "2010 42.17791 40.61884 39.74537 38.83695 37.95112 38.22065 39.47557 38.82359\n",
       "2011 40.28150 39.72668 40.26972 40.84522 40.10011 40.49416 39.67538 41.62936\n",
       "2012 39.87859 39.08377 39.15484 38.75821 40.54721 41.21162 39.42405 40.70712\n",
       "2013 40.74843 40.03419 39.70969 40.50576 41.29239 42.69977 43.67358 43.94983\n",
       "2014 47.32458 49.33437 48.89089 49.20488 47.09570 46.01883 47.63628 48.49975\n",
       "2015 77.91494 68.50397 62.30099 56.67159 57.32758 62.45660 65.28048 73.22201\n",
       "2016 81.67065 83.39342 76.24380 75.18732 74.24154 71.05937 73.37257 72.75061\n",
       "2017 65.00108 61.63036 59.76950 61.89581 63.15443 67.98627 69.87195 69.52319\n",
       "          Sep      Oct      Nov      Dec\n",
       "1999 26.71470 27.61940 26.81180 27.65970\n",
       "2000 24.45170 23.56400 24.20190 26.73520\n",
       "2001 26.86700 26.78910 26.64560 27.12960\n",
       "2002 31.24050 31.40300 31.65800 33.51530\n",
       "2003 35.61200 34.76800 35.53609 36.80062\n",
       "2004 36.33199 36.65749 37.39411 37.58868\n",
       "2005 34.26551 34.11198 34.08535 34.02998\n",
       "2006 33.92297 34.09425 34.78388 34.77244\n",
       "2007 35.38523 35.68793 36.01975 35.86760\n",
       "2008 36.14181 34.39183 35.29248 42.67381\n",
       "2009 44.03497 42.99816 43.94381 42.97430\n",
       "2010 41.42522 43.02784 41.06666 40.63832\n",
       "2011 43.43763 41.97127 41.02622 41.41299\n",
       "2012 39.93339 40.62298 40.04307 40.26535\n",
       "2013 43.64715 43.85659 45.05523 45.13568\n",
       "2014 49.90697 51.73118 62.51788 68.78854\n",
       "2015 73.96277 70.56948 70.29240 80.06955\n",
       "2016 70.71843 69.13091 67.70675 64.98075\n",
       "2017 68.20434 67.46938 69.44876 69.11032"
      ]
     },
     "metadata": {},
     "output_type": "display_data"
    },
    {
     "data": {
      "image/png": "[encoded data removed]",
      "text/plain": [
       "plot without title"
      ]
     },
     "metadata": {},
     "output_type": "display_data"
    }
   ],
   "source": [
    "eur_rub_rate <- eur_rub[,1]\n",
    "eur_rub_rate\n",
    "plot(eur_rub_rate)"
   ]
  },
  {
   "cell_type": "markdown",
   "metadata": {},
   "source": [
    "# Decomposing\n",
    "A time series decomposition is a mathematical operation which convert a time series into multiple different time series. The original time series is usually decomposed into 3 sub-time series:\n",
    "#### Seasonal: \n",
    "Patterns that repeat with fixed period of time.\n",
    "#### Trend: \n",
    "The underlying trend of the measurements.\n",
    "#### Random: ( or “Remainder”)\n",
    "Is the residuals of the time series after splitting into the seasonal and trends time series.\n",
    "\n",
    "## Additive or multiplicative decomposition?\n",
    "It is significant to choose between the additive or multiplicative model to get a useful decomposition. In this assignment, i will apply both of the decomposition methods to detect which is more compatible with my data.\n",
    "\n",
    "### Additive Time Series\n",
    "If a time series model is 'additive' , the magnitude of seasonal variation must be constant.\n",
    "#### *Formula*: Time Series = Seasonal + Trend + Random\n",
    "\n",
    "### Multiplicative Time Series\n",
    "If the time series model is 'multiplicative', the magnitude of seasonal variation must increase when the time series increases.\n",
    "#### *Formula*: Time Series = Seasonal x Trend x Random\n",
    "\n",
    "\n"
   ]
  },
  {
   "cell_type": "markdown",
   "metadata": {},
   "source": [
    "# * 'Additive Decomposition' *"
   ]
  },
  {
   "cell_type": "code",
   "execution_count": 9,
   "metadata": {},
   "outputs": [
    {
     "data": {
      "text/plain": [
       "$x\n",
       "          Jan      Feb      Mar      Apr      May      Jun      Jul      Aug\n",
       "1999                                                                        \n",
       "2000 27.85250 27.77730 27.43900 25.91000 26.40640 26.75000 25.78480 24.72520\n",
       "2001 26.54960 26.44920 25.33880 25.72140 24.77750 24.69550 25.67980 26.87560\n",
       "2002 26.39620 26.86800 27.16700 28.16950 29.31010 31.21390 30.88700 31.08780\n",
       "2003 34.32790 34.05660 34.11600 34.66190 36.31140 34.85670 34.11320 33.38700\n",
       "2004 35.55888 35.50178 35.07702 34.75051 35.36487 35.40664 34.96672 35.63157\n",
       "2005 36.69917 36.60296 36.13779 35.76432 34.75286 34.61357 34.93147 35.38152\n",
       "2006 34.04590 33.34030 33.82210 34.19670 34.61110 34.32487 34.23177 34.26669\n",
       "2007 34.48110 34.54598 34.71332 35.06942 34.80408 34.80515 34.96486 34.99311\n",
       "2008 36.31526 36.47757 37.06902 36.91495 36.80882 36.92906 36.54239 36.03650\n",
       "2009 45.70603 45.40198 44.81182 43.65504 43.36280 43.62426 44.97619 46.47644\n",
       "2010 42.17791 40.61884 39.74537 38.83695 37.95112 38.22065 39.47557 38.82359\n",
       "2011 40.28150 39.72668 40.26972 40.84522 40.10011 40.49416 39.67538 41.62936\n",
       "2012 39.87859 39.08377 39.15484 38.75821 40.54721 41.21162 39.42405 40.70712\n",
       "2013 40.74843 40.03419 39.70969 40.50576 41.29239 42.69977 43.67358 43.94983\n",
       "2014 47.32458 49.33437 48.89089 49.20488 47.09570 46.01883 47.63628 48.49975\n",
       "2015 77.91494 68.50397 62.30099 56.67159 57.32758 62.45660 65.28048 73.22201\n",
       "2016 81.67065 83.39342 76.24380 75.18732 74.24154 71.05937 73.37257 72.75061\n",
       "2017 65.00108 61.63036 59.76950 61.89581 63.15443 67.98627 69.87195 69.52319\n",
       "          Sep      Oct      Nov      Dec\n",
       "1999 26.71470 27.61940 26.81180 27.65970\n",
       "2000 24.45170 23.56400 24.20190 26.73520\n",
       "2001 26.86700 26.78910 26.64560 27.12960\n",
       "2002 31.24050 31.40300 31.65800 33.51530\n",
       "2003 35.61200 34.76800 35.53609 36.80062\n",
       "2004 36.33199 36.65749 37.39411 37.58868\n",
       "2005 34.26551 34.11198 34.08535 34.02998\n",
       "2006 33.92297 34.09425 34.78388 34.77244\n",
       "2007 35.38523 35.68793 36.01975 35.86760\n",
       "2008 36.14181 34.39183 35.29248 42.67381\n",
       "2009 44.03497 42.99816 43.94381 42.97430\n",
       "2010 41.42522 43.02784 41.06666 40.63832\n",
       "2011 43.43763 41.97127 41.02622 41.41299\n",
       "2012 39.93339 40.62298 40.04307 40.26535\n",
       "2013 43.64715 43.85659 45.05523 45.13568\n",
       "2014 49.90697 51.73118 62.51788 68.78854\n",
       "2015 73.96277 70.56948 70.29240 80.06955\n",
       "2016 70.71843 69.13091 67.70675 64.98075\n",
       "2017 68.20434 67.46938 69.44876 69.11032\n",
       "\n",
       "$seasonal\n",
       "             Jan         Feb         Mar         Apr         May         Jun\n",
       "1999                                                                        \n",
       "2000  1.81286297  0.80043402 -0.36315560 -0.83239548 -0.93997622 -0.62646148\n",
       "2001  1.81286297  0.80043402 -0.36315560 -0.83239548 -0.93997622 -0.62646148\n",
       "2002  1.81286297  0.80043402 -0.36315560 -0.83239548 -0.93997622 -0.62646148\n",
       "2003  1.81286297  0.80043402 -0.36315560 -0.83239548 -0.93997622 -0.62646148\n",
       "2004  1.81286297  0.80043402 -0.36315560 -0.83239548 -0.93997622 -0.62646148\n",
       "2005  1.81286297  0.80043402 -0.36315560 -0.83239548 -0.93997622 -0.62646148\n",
       "2006  1.81286297  0.80043402 -0.36315560 -0.83239548 -0.93997622 -0.62646148\n",
       "2007  1.81286297  0.80043402 -0.36315560 -0.83239548 -0.93997622 -0.62646148\n",
       "2008  1.81286297  0.80043402 -0.36315560 -0.83239548 -0.93997622 -0.62646148\n",
       "2009  1.81286297  0.80043402 -0.36315560 -0.83239548 -0.93997622 -0.62646148\n",
       "2010  1.81286297  0.80043402 -0.36315560 -0.83239548 -0.93997622 -0.62646148\n",
       "2011  1.81286297  0.80043402 -0.36315560 -0.83239548 -0.93997622 -0.62646148\n",
       "2012  1.81286297  0.80043402 -0.36315560 -0.83239548 -0.93997622 -0.62646148\n",
       "2013  1.81286297  0.80043402 -0.36315560 -0.83239548 -0.93997622 -0.62646148\n",
       "2014  1.81286297  0.80043402 -0.36315560 -0.83239548 -0.93997622 -0.62646148\n",
       "2015  1.81286297  0.80043402 -0.36315560 -0.83239548 -0.93997622 -0.62646148\n",
       "2016  1.81286297  0.80043402 -0.36315560 -0.83239548 -0.93997622 -0.62646148\n",
       "2017  1.81286297  0.80043402 -0.36315560 -0.83239548 -0.93997622 -0.62646148\n",
       "             Jul         Aug         Sep         Oct         Nov         Dec\n",
       "1999                         -0.01719083 -0.53223547 -0.01090333  1.33381237\n",
       "2000 -0.60266502 -0.02212592 -0.01719083 -0.53223547 -0.01090333  1.33381237\n",
       "2001 -0.60266502 -0.02212592 -0.01719083 -0.53223547 -0.01090333  1.33381237\n",
       "2002 -0.60266502 -0.02212592 -0.01719083 -0.53223547 -0.01090333  1.33381237\n",
       "2003 -0.60266502 -0.02212592 -0.01719083 -0.53223547 -0.01090333  1.33381237\n",
       "2004 -0.60266502 -0.02212592 -0.01719083 -0.53223547 -0.01090333  1.33381237\n",
       "2005 -0.60266502 -0.02212592 -0.01719083 -0.53223547 -0.01090333  1.33381237\n",
       "2006 -0.60266502 -0.02212592 -0.01719083 -0.53223547 -0.01090333  1.33381237\n",
       "2007 -0.60266502 -0.02212592 -0.01719083 -0.53223547 -0.01090333  1.33381237\n",
       "2008 -0.60266502 -0.02212592 -0.01719083 -0.53223547 -0.01090333  1.33381237\n",
       "2009 -0.60266502 -0.02212592 -0.01719083 -0.53223547 -0.01090333  1.33381237\n",
       "2010 -0.60266502 -0.02212592 -0.01719083 -0.53223547 -0.01090333  1.33381237\n",
       "2011 -0.60266502 -0.02212592 -0.01719083 -0.53223547 -0.01090333  1.33381237\n",
       "2012 -0.60266502 -0.02212592 -0.01719083 -0.53223547 -0.01090333  1.33381237\n",
       "2013 -0.60266502 -0.02212592 -0.01719083 -0.53223547 -0.01090333  1.33381237\n",
       "2014 -0.60266502 -0.02212592 -0.01719083 -0.53223547 -0.01090333  1.33381237\n",
       "2015 -0.60266502 -0.02212592 -0.01719083 -0.53223547 -0.01090333  1.33381237\n",
       "2016 -0.60266502 -0.02212592 -0.01719083 -0.53223547 -0.01090333  1.33381237\n",
       "2017 -0.60266502 -0.02212592 -0.01719083 -0.53223547 -0.01090333  1.33381237\n",
       "\n",
       "$trend\n",
       "          Jan      Feb      Mar      Apr      May      Jun      Jul      Aug\n",
       "1999                                                                        \n",
       "2000       NA       NA 26.69327 26.43001 26.15229 26.00502 25.91221 25.80259\n",
       "2001 25.24519 25.33042 25.52065 25.75567 25.99187 26.11013 26.12017 26.13123\n",
       "2002 27.64292 28.03539 28.39313 28.76760 29.16870 29.64362 30.24018 30.87019\n",
       "2003 33.31127 33.54149 33.81944 34.14179 34.44359 34.74206 34.93024 35.04175\n",
       "2004 35.19195 35.32104 35.44456 35.55329 35.70943 35.81969 35.90003 35.99343\n",
       "2005 36.09363 36.08174 35.98522 35.79306 35.54913 35.26298 35.00415 34.75766\n",
       "2006 34.23308 34.15747 34.09675 34.08174 34.11010 34.17014 34.21921 34.28758\n",
       "2007 34.57146 34.63228 34.72347 34.85080 34.96870 35.06583 35.18788 35.34479\n",
       "2008 36.18516 36.29436 36.36936 36.34688 36.26258 36.51587 37.19074 37.95387\n",
       "2009 40.98814 41.77454 42.53842 43.22590 43.94497 44.31796 44.18348 43.83717\n",
       "2010 41.68370 41.13564 40.70803 40.60053 40.48188 40.26467 40.08832 39.97213\n",
       "2011 40.52288 40.64811 40.84886 40.88869 40.84298 40.87358 40.88906 40.84549\n",
       "2012 40.63845 40.58955 40.40512 40.20293 40.10578 40.01700 40.00543 40.08127\n",
       "2013 40.67591 40.98809 41.27794 41.56742 41.91099 42.32276 42.79970 43.46121\n",
       "2014 46.26406 46.61875 47.06915 47.65809 48.71381 50.42695 52.68709 54.76042\n",
       "2015 60.25653 62.02180 64.05422 65.84147 66.95034 67.74432 68.37085 69.14773\n",
       "2016 74.93657 75.25410 75.09928 74.90416 74.73648 74.00004 72.67678 71.07542\n",
       "2017 66.36226 66.08193 65.84270 65.66871 65.67207 65.91672       NA       NA\n",
       "          Sep      Oct      Nov      Dec\n",
       "1999       NA       NA       NA       NA\n",
       "2000 25.65974 25.56437 25.48865 25.33517\n",
       "2001 26.22485 26.40303 26.69389 27.15435\n",
       "2002 31.45926 32.01932 32.58155 33.02506\n",
       "2003 35.14201 35.18574 35.15000 35.13347\n",
       "2004 36.08351 36.16995 36.18669 36.12815\n",
       "2005 34.52522 34.36342 34.29220 34.27426\n",
       "2006 34.37495 34.44845 34.49286 34.52091\n",
       "2007 35.52343 35.69848 35.85891 36.03093\n",
       "2008 38.64834 39.25179 39.80571 40.35776\n",
       "2009 43.42678 43.01492 42.58868 42.13804\n",
       "2010 39.95680 40.06233 40.23555 40.41982\n",
       "2011 40.77225 40.63884 40.57051 40.61903\n",
       "2012 40.14399 40.23992 40.34379 40.43684\n",
       "2013 44.23127 44.97628 45.58055 45.96065\n",
       "2014 56.11791 56.98777 57.72521 58.83645\n",
       "2015 70.34908 71.70152 73.17775 74.24095\n",
       "2016 69.48220 68.24195 67.22618 66.63617\n",
       "2017       NA       NA       NA       NA\n",
       "\n",
       "$random\n",
       "              Jan          Feb          Mar          Apr          May\n",
       "1999                                                                 \n",
       "2000           NA           NA  1.108880603  0.312387149  1.194088715\n",
       "2001 -0.508454633  0.318349316  0.181301436  0.798124649 -0.274394618\n",
       "2002 -3.059579633 -1.967825684 -0.862973564  0.234291315  1.081376215\n",
       "2003 -0.796229633 -0.285325684  0.659718103  1.352503815  2.807788937\n",
       "2004 -1.445931782 -0.619688125 -0.004384329  0.029623661  0.595415274\n",
       "2005 -1.207329844 -0.279220009  0.515723625  0.803655712  0.143705368\n",
       "2006 -2.000039482 -1.617605299  0.088508262  0.947359451  1.440972703\n",
       "2007 -1.903229489 -0.886729304  0.353000720  1.051011650  0.775351524\n",
       "2008 -1.682764624 -0.617225234  1.062811453  1.400463033  1.486214320\n",
       "2009  2.905031111  2.827003892  2.636554002  1.261535096  0.357802868\n",
       "2010 -1.318656379 -1.317237123 -0.599502008 -0.931179754 -1.590787888\n",
       "2011 -2.054236506 -1.721856817 -0.215990782  0.788923033  0.197106520\n",
       "2012 -2.572724118 -2.306219483 -0.887121916 -0.612323038  1.381402333\n",
       "2013 -1.740348274 -1.754333083 -1.205093623 -0.229257019  0.321378867\n",
       "2014 -0.752333258  1.915184275  2.184890508  2.379191645 -0.678126494\n",
       "2015 15.845546152  5.681733226 -1.390068611 -8.337484908 -8.682788849\n",
       "2016  4.921221163  7.338884131  1.507676044  1.115564275  0.445035457\n",
       "2017 -3.174050901 -5.251999124 -5.710046530 -2.940506371 -1.577657859\n",
       "              Jun          Jul          Aug          Sep          Oct\n",
       "1999                                                  NA           NA\n",
       "2000  1.371440649  0.475252524 -1.055261577 -1.190850840 -1.468139532\n",
       "2001 -0.788163518  0.162298357  0.766500923  0.659340827  0.918306302\n",
       "2002  2.196740649  1.249485857  0.239734256 -0.201567507 -0.084081198\n",
       "2003  0.741098391 -0.214377429 -1.632623252  0.487183310  0.114493214\n",
       "2004  0.213414645 -0.330651684 -0.339732922  0.265667332  1.019775714\n",
       "2005 -0.022951150  0.529978128  0.645990029 -0.242526416  0.280792573\n",
       "2006  0.781184866  0.615225673  0.001228658 -0.434796763  0.178030381\n",
       "2007  0.365782396  0.379644788 -0.329556581 -0.121008503  0.521684811\n",
       "2008  1.039657251 -0.045682672 -1.895251867 -2.489337869 -4.327727949\n",
       "2009 -0.067237401  1.395375805  2.661387645  0.625385019  0.515473530\n",
       "2010 -1.417553926 -0.010080420 -1.126414892  1.485606405  3.497740910\n",
       "2011  0.247049626 -0.611023032  0.805993600  2.682569556  1.864668056\n",
       "2012  1.821080184  0.021291650  0.647974057 -0.193408437  0.915292904\n",
       "2013  1.003468648  1.476543185  0.510746840 -0.566930083 -0.587460195\n",
       "2014 -3.781664872 -4.448144518 -6.238543150 -6.193743335 -4.724354898\n",
       "2015 -4.661263331 -2.487706744  4.096400621  3.630882475 -0.599799469\n",
       "2016 -2.314210757  1.298460401  1.697317484  1.253424697  1.421194717\n",
       "2017  2.696011042           NA           NA           NA           NA\n",
       "              Nov          Dec\n",
       "1999           NA           NA\n",
       "2000 -1.275842501  0.066216794\n",
       "2001 -0.037388334 -1.358562372\n",
       "2002 -0.912650834 -0.843570706\n",
       "2003  0.397002120  0.333341135\n",
       "2004  1.218324318  0.126722359\n",
       "2005 -0.195946026 -1.578088521\n",
       "2006  0.301926587 -1.082281884\n",
       "2007  0.171750043 -1.497149603\n",
       "2008 -4.502325878  0.982230051\n",
       "2009  1.366037502 -0.497557934\n",
       "2010  0.842011744 -1.115308261\n",
       "2011  0.466620102 -0.539854185\n",
       "2012 -0.289813544 -1.505309876\n",
       "2013 -0.514413700 -2.158776101\n",
       "2014  4.803569450  8.618282819\n",
       "2015 -2.874445623  4.494786604\n",
       "2016  0.491474444 -2.989230450\n",
       "2017           NA           NA\n",
       "\n",
       "$figure\n",
       " [1] -0.01719083 -0.53223547 -0.01090333  1.33381237  1.81286297  0.80043402\n",
       " [7] -0.36315560 -0.83239548 -0.93997622 -0.62646148 -0.60266502 -0.02212592\n",
       "\n",
       "$type\n",
       "[1] \"additive\"\n",
       "\n",
       "attr(,\"class\")\n",
       "[1] \"decomposed.ts\""
      ]
     },
     "metadata": {},
     "output_type": "display_data"
    }
   ],
   "source": [
    "decompose(eur_rub_rate,\"additive\")"
   ]
  },
  {
   "cell_type": "code",
   "execution_count": 10,
   "metadata": {},
   "outputs": [
    {
     "data": {
      "image/png": "[encoded data removed]",
      "text/plain": [
       "plot without title"
      ]
     },
     "metadata": {},
     "output_type": "display_data"
    }
   ],
   "source": [
    "plot(decompose(eur_rub_rate,\"additive\"))"
   ]
  },
  {
   "cell_type": "code",
   "execution_count": 11,
   "metadata": {},
   "outputs": [
    {
     "data": {
      "text/plain": [
       "              Jan          Feb          Mar          Apr          May\n",
       "1999                                                                 \n",
       "2000           NA           NA  1.108880603  0.312387149  1.194088715\n",
       "2001 -0.508454633  0.318349316  0.181301436  0.798124649 -0.274394618\n",
       "2002 -3.059579633 -1.967825684 -0.862973564  0.234291315  1.081376215\n",
       "2003 -0.796229633 -0.285325684  0.659718103  1.352503815  2.807788937\n",
       "2004 -1.445931782 -0.619688125 -0.004384329  0.029623661  0.595415274\n",
       "2005 -1.207329844 -0.279220009  0.515723625  0.803655712  0.143705368\n",
       "2006 -2.000039482 -1.617605299  0.088508262  0.947359451  1.440972703\n",
       "2007 -1.903229489 -0.886729304  0.353000720  1.051011650  0.775351524\n",
       "2008 -1.682764624 -0.617225234  1.062811453  1.400463033  1.486214320\n",
       "2009  2.905031111  2.827003892  2.636554002  1.261535096  0.357802868\n",
       "2010 -1.318656379 -1.317237123 -0.599502008 -0.931179754 -1.590787888\n",
       "2011 -2.054236506 -1.721856817 -0.215990782  0.788923033  0.197106520\n",
       "2012 -2.572724118 -2.306219483 -0.887121916 -0.612323038  1.381402333\n",
       "2013 -1.740348274 -1.754333083 -1.205093623 -0.229257019  0.321378867\n",
       "2014 -0.752333258  1.915184275  2.184890508  2.379191645 -0.678126494\n",
       "2015 15.845546152  5.681733226 -1.390068611 -8.337484908 -8.682788849\n",
       "2016  4.921221163  7.338884131  1.507676044  1.115564275  0.445035457\n",
       "2017 -3.174050901 -5.251999124 -5.710046530 -2.940506371 -1.577657859\n",
       "              Jun          Jul          Aug          Sep          Oct\n",
       "1999                                                  NA           NA\n",
       "2000  1.371440649  0.475252524 -1.055261577 -1.190850840 -1.468139532\n",
       "2001 -0.788163518  0.162298357  0.766500923  0.659340827  0.918306302\n",
       "2002  2.196740649  1.249485857  0.239734256 -0.201567507 -0.084081198\n",
       "2003  0.741098391 -0.214377429 -1.632623252  0.487183310  0.114493214\n",
       "2004  0.213414645 -0.330651684 -0.339732922  0.265667332  1.019775714\n",
       "2005 -0.022951150  0.529978128  0.645990029 -0.242526416  0.280792573\n",
       "2006  0.781184866  0.615225673  0.001228658 -0.434796763  0.178030381\n",
       "2007  0.365782396  0.379644788 -0.329556581 -0.121008503  0.521684811\n",
       "2008  1.039657251 -0.045682672 -1.895251867 -2.489337869 -4.327727949\n",
       "2009 -0.067237401  1.395375805  2.661387645  0.625385019  0.515473530\n",
       "2010 -1.417553926 -0.010080420 -1.126414892  1.485606405  3.497740910\n",
       "2011  0.247049626 -0.611023032  0.805993600  2.682569556  1.864668056\n",
       "2012  1.821080184  0.021291650  0.647974057 -0.193408437  0.915292904\n",
       "2013  1.003468648  1.476543185  0.510746840 -0.566930083 -0.587460195\n",
       "2014 -3.781664872 -4.448144518 -6.238543150 -6.193743335 -4.724354898\n",
       "2015 -4.661263331 -2.487706744  4.096400621  3.630882475 -0.599799469\n",
       "2016 -2.314210757  1.298460401  1.697317484  1.253424697  1.421194717\n",
       "2017  2.696011042           NA           NA           NA           NA\n",
       "              Nov          Dec\n",
       "1999           NA           NA\n",
       "2000 -1.275842501  0.066216794\n",
       "2001 -0.037388334 -1.358562372\n",
       "2002 -0.912650834 -0.843570706\n",
       "2003  0.397002120  0.333341135\n",
       "2004  1.218324318  0.126722359\n",
       "2005 -0.195946026 -1.578088521\n",
       "2006  0.301926587 -1.082281884\n",
       "2007  0.171750043 -1.497149603\n",
       "2008 -4.502325878  0.982230051\n",
       "2009  1.366037502 -0.497557934\n",
       "2010  0.842011744 -1.115308261\n",
       "2011  0.466620102 -0.539854185\n",
       "2012 -0.289813544 -1.505309876\n",
       "2013 -0.514413700 -2.158776101\n",
       "2014  4.803569450  8.618282819\n",
       "2015 -2.874445623  4.494786604\n",
       "2016  0.491474444 -2.989230450\n",
       "2017           NA           NA"
      ]
     },
     "metadata": {},
     "output_type": "display_data"
    }
   ],
   "source": [
    "random_additive <- (decompose(eur_rub_rate,\"additive\"))$random\n",
    "random_additive"
   ]
  },
  {
   "cell_type": "code",
   "execution_count": 12,
   "metadata": {},
   "outputs": [
    {
     "data": {
      "image/png": "[encoded data removed]",
      "text/plain": [
       "plot without title"
      ]
     },
     "metadata": {},
     "output_type": "display_data"
    }
   ],
   "source": [
    "plot(random_additive)"
   ]
  },
  {
   "cell_type": "code",
   "execution_count": 13,
   "metadata": {},
   "outputs": [
    {
     "data": {
      "text/plain": [
       "              Jan          Feb          Mar          Apr          May\n",
       "2000                            1.108880603  0.312387149  1.194088715\n",
       "2001 -0.508454633  0.318349316  0.181301436  0.798124649 -0.274394618\n",
       "2002 -3.059579633 -1.967825684 -0.862973564  0.234291315  1.081376215\n",
       "2003 -0.796229633 -0.285325684  0.659718103  1.352503815  2.807788937\n",
       "2004 -1.445931782 -0.619688125 -0.004384329  0.029623661  0.595415274\n",
       "2005 -1.207329844 -0.279220009  0.515723625  0.803655712  0.143705368\n",
       "2006 -2.000039482 -1.617605299  0.088508262  0.947359451  1.440972703\n",
       "2007 -1.903229489 -0.886729304  0.353000720  1.051011650  0.775351524\n",
       "2008 -1.682764624 -0.617225234  1.062811453  1.400463033  1.486214320\n",
       "2009  2.905031111  2.827003892  2.636554002  1.261535096  0.357802868\n",
       "2010 -1.318656379 -1.317237123 -0.599502008 -0.931179754 -1.590787888\n",
       "2011 -2.054236506 -1.721856817 -0.215990782  0.788923033  0.197106520\n",
       "2012 -2.572724118 -2.306219483 -0.887121916 -0.612323038  1.381402333\n",
       "2013 -1.740348274 -1.754333083 -1.205093623 -0.229257019  0.321378867\n",
       "2014 -0.752333258  1.915184275  2.184890508  2.379191645 -0.678126494\n",
       "2015 15.845546152  5.681733226 -1.390068611 -8.337484908 -8.682788849\n",
       "2016  4.921221163  7.338884131  1.507676044  1.115564275  0.445035457\n",
       "2017 -3.174050901 -5.251999124 -5.710046530 -2.940506371 -1.577657859\n",
       "              Jun          Jul          Aug          Sep          Oct\n",
       "2000  1.371440649  0.475252524 -1.055261577 -1.190850840 -1.468139532\n",
       "2001 -0.788163518  0.162298357  0.766500923  0.659340827  0.918306302\n",
       "2002  2.196740649  1.249485857  0.239734256 -0.201567507 -0.084081198\n",
       "2003  0.741098391 -0.214377429 -1.632623252  0.487183310  0.114493214\n",
       "2004  0.213414645 -0.330651684 -0.339732922  0.265667332  1.019775714\n",
       "2005 -0.022951150  0.529978128  0.645990029 -0.242526416  0.280792573\n",
       "2006  0.781184866  0.615225673  0.001228658 -0.434796763  0.178030381\n",
       "2007  0.365782396  0.379644788 -0.329556581 -0.121008503  0.521684811\n",
       "2008  1.039657251 -0.045682672 -1.895251867 -2.489337869 -4.327727949\n",
       "2009 -0.067237401  1.395375805  2.661387645  0.625385019  0.515473530\n",
       "2010 -1.417553926 -0.010080420 -1.126414892  1.485606405  3.497740910\n",
       "2011  0.247049626 -0.611023032  0.805993600  2.682569556  1.864668056\n",
       "2012  1.821080184  0.021291650  0.647974057 -0.193408437  0.915292904\n",
       "2013  1.003468648  1.476543185  0.510746840 -0.566930083 -0.587460195\n",
       "2014 -3.781664872 -4.448144518 -6.238543150 -6.193743335 -4.724354898\n",
       "2015 -4.661263331 -2.487706744  4.096400621  3.630882475 -0.599799469\n",
       "2016 -2.314210757  1.298460401  1.697317484  1.253424697  1.421194717\n",
       "2017  2.696011042                                                    \n",
       "              Nov          Dec\n",
       "2000 -1.275842501  0.066216794\n",
       "2001 -0.037388334 -1.358562372\n",
       "2002 -0.912650834 -0.843570706\n",
       "2003  0.397002120  0.333341135\n",
       "2004  1.218324318  0.126722359\n",
       "2005 -0.195946026 -1.578088521\n",
       "2006  0.301926587 -1.082281884\n",
       "2007  0.171750043 -1.497149603\n",
       "2008 -4.502325878  0.982230051\n",
       "2009  1.366037502 -0.497557934\n",
       "2010  0.842011744 -1.115308261\n",
       "2011  0.466620102 -0.539854185\n",
       "2012 -0.289813544 -1.505309876\n",
       "2013 -0.514413700 -2.158776101\n",
       "2014  4.803569450  8.618282819\n",
       "2015 -2.874445623  4.494786604\n",
       "2016  0.491474444 -2.989230450\n",
       "2017                          "
      ]
     },
     "metadata": {},
     "output_type": "display_data"
    }
   ],
   "source": [
    "#i will delete the NAs from the data.\n",
    "random_additive <- na.omit(random_additive)\n",
    "random_additive"
   ]
  },
  {
   "cell_type": "markdown",
   "metadata": {},
   "source": [
    "### ACF and PACF Plots\n",
    "\n",
    "ACF plots demonstrates correlation between a series and its lags. Furthermore, ACF plots are useful when suggesting the order of differencing and determining the order of the *MA (q)* model.\n",
    "\n",
    "Partial autocorrelation plots (PACF),  shows correlation between a variable and its lags that is not clarified by previous lags. They are helpful when determining the order of the AR(p) model."
   ]
  },
  {
   "cell_type": "code",
   "execution_count": 14,
   "metadata": {},
   "outputs": [
    {
     "data": {
      "image/png": "[encoded data removed]",
      "text/plain": [
       "Plot with title \"Series  ts(random_additive)\""
      ]
     },
     "metadata": {},
     "output_type": "display_data"
    },
    {
     "data": {
      "image/png": "[encoded data removed]",
      "text/plain": [
       "Plot with title \"Series  ts(random_additive)\""
      ]
     },
     "metadata": {},
     "output_type": "display_data"
    }
   ],
   "source": [
    "acf(ts(random_additive))\n",
    "pacf(ts(random_additive))"
   ]
  },
  {
   "cell_type": "markdown",
   "metadata": {},
   "source": [
    "## ARIMA (Auto-Regressive Integrated Moving Average )\n",
    "\n",
    "ARIMA is defined as 3 parameters: $(p,d,q)$\n",
    "\n",
    "An auto regressive *AR(p)* component is representing to the use of past values in the regression equation for the series Y. The auto-regressive parameter *p* identifies the number of lags used in the model. For example, AR(2) or, equivalently, ARIMA(2,0,0), is represented as\n",
    "\n",
    "$$Y_t = c + \\phi_1y_{t-1} + \\phi_2 y_{t-2}+ e_t$$\n",
    "\n",
    "where φ1, φ2 are parameters for the model.\n",
    "\n",
    "The *d* specifies the degree of differencing in the integrated *I(d)* component. Differencing a series involves subtracting its current and previous values d times. Usually, differencing is used to stabilize the series to make it stationary.\n",
    "\n",
    "A moving average *MA(q)* component represents the error of the model which is a combination of previous error terms $e_t$. The order *q* identifies the number of terms to include in the model\n",
    "\n",
    "$$Y_t = c + \\theta_1 e_{t-1} + \\theta_2 e_{t-2} +...+ \\theta_q e_{t-q}+ e_t$$\n",
    "\n",
    "A non-seasonal $ARIMA$ model is constructed by differencing, autoregressive, and moving average components. It can be written as a linear equation:\n",
    "\n",
    "$$ Y_t = c + \\phi_1y_d{_{t-1}} + \\phi_p y_d{_{t-p}}+...+\\theta_1 e_{t-1} +  \\theta_q e_{t-q} + e_t$$\n",
    "\n",
    " $y_d$ : Y differenced d times\n",
    " \n",
    " c : constant.\n",
    " \n",
    " ### auto.arima( ) function\n",
    " The *forecast* package allows the user to clealy identfy the order of the model using the $arima()$ function, or automatically generate a set of optimal (p, d, q) using $auto.arima()$. This function searches through combinations of order parameters and selects the set that optimizes the model fit metrics.\n"
   ]
  },
  {
   "cell_type": "code",
   "execution_count": 16,
   "metadata": {},
   "outputs": [
    {
     "data": {
      "text/plain": [
       "Series: random_additive \n",
       "ARIMA(2,0,1)(0,0,1)[12] with zero mean \n",
       "\n",
       "Coefficients:\n",
       "         ar1      ar2      ma1     sma1\n",
       "      1.4440  -0.7958  -0.6804  -0.1927\n",
       "s.e.  0.0665   0.0450   0.1148   0.0749\n",
       "\n",
       "sigma^2 estimated as 2.214:  log likelihood=-376.87\n",
       "AIC=763.73   AICc=764.03   BIC=780.42"
      ]
     },
     "metadata": {},
     "output_type": "display_data"
    }
   ],
   "source": [
    "library(forecast)\n",
    "auto.arima(random_additive)"
   ]
  },
  {
   "cell_type": "code",
   "execution_count": 17,
   "metadata": {},
   "outputs": [
    {
     "data": {
      "text/plain": [
       "\n",
       "Call:\n",
       "arima(x = random_additive, order = c(2, 0, 0))\n",
       "\n",
       "Coefficients:\n",
       "         ar1      ar2  intercept\n",
       "      0.9750  -0.4821    -0.0084\n",
       "s.e.  0.0612   0.0611     0.2197\n",
       "\n",
       "sigma^2 estimated as 2.582:  log likelihood = -394.32,  aic = 796.64"
      ]
     },
     "metadata": {},
     "output_type": "display_data"
    }
   ],
   "source": [
    "res <- arima(random_additive, c(2,0,0))\n",
    "res"
   ]
  },
  {
   "cell_type": "code",
   "execution_count": 18,
   "metadata": {},
   "outputs": [
    {
     "data": {
      "image/png": "[encoded data removed]",
      "text/plain": [
       "plot without title"
      ]
     },
     "metadata": {},
     "output_type": "display_data"
    }
   ],
   "source": [
    "plot(res$residuals)"
   ]
  },
  {
   "cell_type": "code",
   "execution_count": 19,
   "metadata": {},
   "outputs": [
    {
     "data": {
      "text/plain": [
       "    Min.  1st Qu.   Median     Mean  3rd Qu.     Max. \n",
       "-5.60827 -0.70844 -0.03631 -0.00178  0.55980  9.76294 "
      ]
     },
     "metadata": {},
     "output_type": "display_data"
    }
   ],
   "source": [
    "res_additive <- res$residuals\n",
    "summary(res_additive)"
   ]
  },
  {
   "cell_type": "code",
   "execution_count": 20,
   "metadata": {},
   "outputs": [
    {
     "data": {
      "text/html": [
       "208"
      ],
      "text/latex": [
       "208"
      ],
      "text/markdown": [
       "208"
      ],
      "text/plain": [
       "[1] 208"
      ]
     },
     "metadata": {},
     "output_type": "display_data"
    }
   ],
   "source": [
    "x_add= (res_additive - mean(res_additive)) / sqrt(var(res_additive))\n",
    "length(x_add)"
   ]
  },
  {
   "cell_type": "markdown",
   "metadata": {},
   "source": [
    "## Kolmogorov - Smirnov Test\n",
    "Kolmogorov-Smirnov Test is a statistical,non-parametric test for normality which compares the actual data with the normal distribution. It is applicable only for continuous functions and it tends to be more sensitive near the center of distribution than at the tails.\n",
    "\n",
    "The hypotheses used are:\n",
    "\n",
    "*$H_0(null hypothesis)$*       : The sample data are normally distributed.\n",
    "\n",
    "*$H_a(alternative hypothesis)$*: The sample data are not normally distributed.\n",
    "\n",
    "*$D$*: maximum absolute difference between the normal population and the given data.\n",
    "\n",
    "\n",
    "$D=  max_{N \\ge y \\ge 1}   [F(Y_i)  - \\frac{i-1}{n}, \\frac{i}{n} - F(Y_i) ] $\n",
    "\n",
    "\n",
    "*$p-value$*: significance value of the test.\n",
    "\n",
    "• The test rejects the null-hypothesis when the p-value is less than 0.05.\n",
    "\n",
    "• The test fail the reject the null hypothesis(i.e.normal distribution may be assumed) when the p-value is greater than 0.05."
   ]
  },
  {
   "cell_type": "code",
   "execution_count": 21,
   "metadata": {},
   "outputs": [
    {
     "data": {
      "text/plain": [
       "\n",
       "\tTwo-sample Kolmogorov-Smirnov test\n",
       "\n",
       "data:  x_add and rnorm(500)\n",
       "D = 0.17015, p-value = 0.0004046\n",
       "alternative hypothesis: two-sided\n"
      ]
     },
     "metadata": {},
     "output_type": "display_data"
    }
   ],
   "source": [
    "ks.test(x_add,rnorm(500))"
   ]
  },
  {
   "cell_type": "markdown",
   "metadata": {},
   "source": [
    "## * 'Multiplicative Decomposition' *"
   ]
  },
  {
   "cell_type": "code",
   "execution_count": 22,
   "metadata": {},
   "outputs": [
    {
     "data": {
      "text/plain": [
       "$x\n",
       "          Jan      Feb      Mar      Apr      May      Jun      Jul      Aug\n",
       "1999                                                                        \n",
       "2000 27.85250 27.77730 27.43900 25.91000 26.40640 26.75000 25.78480 24.72520\n",
       "2001 26.54960 26.44920 25.33880 25.72140 24.77750 24.69550 25.67980 26.87560\n",
       "2002 26.39620 26.86800 27.16700 28.16950 29.31010 31.21390 30.88700 31.08780\n",
       "2003 34.32790 34.05660 34.11600 34.66190 36.31140 34.85670 34.11320 33.38700\n",
       "2004 35.55888 35.50178 35.07702 34.75051 35.36487 35.40664 34.96672 35.63157\n",
       "2005 36.69917 36.60296 36.13779 35.76432 34.75286 34.61357 34.93147 35.38152\n",
       "2006 34.04590 33.34030 33.82210 34.19670 34.61110 34.32487 34.23177 34.26669\n",
       "2007 34.48110 34.54598 34.71332 35.06942 34.80408 34.80515 34.96486 34.99311\n",
       "2008 36.31526 36.47757 37.06902 36.91495 36.80882 36.92906 36.54239 36.03650\n",
       "2009 45.70603 45.40198 44.81182 43.65504 43.36280 43.62426 44.97619 46.47644\n",
       "2010 42.17791 40.61884 39.74537 38.83695 37.95112 38.22065 39.47557 38.82359\n",
       "2011 40.28150 39.72668 40.26972 40.84522 40.10011 40.49416 39.67538 41.62936\n",
       "2012 39.87859 39.08377 39.15484 38.75821 40.54721 41.21162 39.42405 40.70712\n",
       "2013 40.74843 40.03419 39.70969 40.50576 41.29239 42.69977 43.67358 43.94983\n",
       "2014 47.32458 49.33437 48.89089 49.20488 47.09570 46.01883 47.63628 48.49975\n",
       "2015 77.91494 68.50397 62.30099 56.67159 57.32758 62.45660 65.28048 73.22201\n",
       "2016 81.67065 83.39342 76.24380 75.18732 74.24154 71.05937 73.37257 72.75061\n",
       "2017 65.00108 61.63036 59.76950 61.89581 63.15443 67.98627 69.87195 69.52319\n",
       "          Sep      Oct      Nov      Dec\n",
       "1999 26.71470 27.61940 26.81180 27.65970\n",
       "2000 24.45170 23.56400 24.20190 26.73520\n",
       "2001 26.86700 26.78910 26.64560 27.12960\n",
       "2002 31.24050 31.40300 31.65800 33.51530\n",
       "2003 35.61200 34.76800 35.53609 36.80062\n",
       "2004 36.33199 36.65749 37.39411 37.58868\n",
       "2005 34.26551 34.11198 34.08535 34.02998\n",
       "2006 33.92297 34.09425 34.78388 34.77244\n",
       "2007 35.38523 35.68793 36.01975 35.86760\n",
       "2008 36.14181 34.39183 35.29248 42.67381\n",
       "2009 44.03497 42.99816 43.94381 42.97430\n",
       "2010 41.42522 43.02784 41.06666 40.63832\n",
       "2011 43.43763 41.97127 41.02622 41.41299\n",
       "2012 39.93339 40.62298 40.04307 40.26535\n",
       "2013 43.64715 43.85659 45.05523 45.13568\n",
       "2014 49.90697 51.73118 62.51788 68.78854\n",
       "2015 73.96277 70.56948 70.29240 80.06955\n",
       "2016 70.71843 69.13091 67.70675 64.98075\n",
       "2017 68.20434 67.46938 69.44876 69.11032\n",
       "\n",
       "$seasonal\n",
       "           Jan       Feb       Mar       Apr       May       Jun       Jul\n",
       "1999                                                                      \n",
       "2000 1.0335957 1.0136678 0.9941377 0.9856060 0.9843079 0.9900369 0.9878263\n",
       "2001 1.0335957 1.0136678 0.9941377 0.9856060 0.9843079 0.9900369 0.9878263\n",
       "2002 1.0335957 1.0136678 0.9941377 0.9856060 0.9843079 0.9900369 0.9878263\n",
       "2003 1.0335957 1.0136678 0.9941377 0.9856060 0.9843079 0.9900369 0.9878263\n",
       "2004 1.0335957 1.0136678 0.9941377 0.9856060 0.9843079 0.9900369 0.9878263\n",
       "2005 1.0335957 1.0136678 0.9941377 0.9856060 0.9843079 0.9900369 0.9878263\n",
       "2006 1.0335957 1.0136678 0.9941377 0.9856060 0.9843079 0.9900369 0.9878263\n",
       "2007 1.0335957 1.0136678 0.9941377 0.9856060 0.9843079 0.9900369 0.9878263\n",
       "2008 1.0335957 1.0136678 0.9941377 0.9856060 0.9843079 0.9900369 0.9878263\n",
       "2009 1.0335957 1.0136678 0.9941377 0.9856060 0.9843079 0.9900369 0.9878263\n",
       "2010 1.0335957 1.0136678 0.9941377 0.9856060 0.9843079 0.9900369 0.9878263\n",
       "2011 1.0335957 1.0136678 0.9941377 0.9856060 0.9843079 0.9900369 0.9878263\n",
       "2012 1.0335957 1.0136678 0.9941377 0.9856060 0.9843079 0.9900369 0.9878263\n",
       "2013 1.0335957 1.0136678 0.9941377 0.9856060 0.9843079 0.9900369 0.9878263\n",
       "2014 1.0335957 1.0136678 0.9941377 0.9856060 0.9843079 0.9900369 0.9878263\n",
       "2015 1.0335957 1.0136678 0.9941377 0.9856060 0.9843079 0.9900369 0.9878263\n",
       "2016 1.0335957 1.0136678 0.9941377 0.9856060 0.9843079 0.9900369 0.9878263\n",
       "2017 1.0335957 1.0136678 0.9941377 0.9856060 0.9843079 0.9900369 0.9878263\n",
       "           Aug       Sep       Oct       Nov       Dec\n",
       "1999           0.9987424 0.9878823 0.9984620 1.0280762\n",
       "2000 0.9976588 0.9987424 0.9878823 0.9984620 1.0280762\n",
       "2001 0.9976588 0.9987424 0.9878823 0.9984620 1.0280762\n",
       "2002 0.9976588 0.9987424 0.9878823 0.9984620 1.0280762\n",
       "2003 0.9976588 0.9987424 0.9878823 0.9984620 1.0280762\n",
       "2004 0.9976588 0.9987424 0.9878823 0.9984620 1.0280762\n",
       "2005 0.9976588 0.9987424 0.9878823 0.9984620 1.0280762\n",
       "2006 0.9976588 0.9987424 0.9878823 0.9984620 1.0280762\n",
       "2007 0.9976588 0.9987424 0.9878823 0.9984620 1.0280762\n",
       "2008 0.9976588 0.9987424 0.9878823 0.9984620 1.0280762\n",
       "2009 0.9976588 0.9987424 0.9878823 0.9984620 1.0280762\n",
       "2010 0.9976588 0.9987424 0.9878823 0.9984620 1.0280762\n",
       "2011 0.9976588 0.9987424 0.9878823 0.9984620 1.0280762\n",
       "2012 0.9976588 0.9987424 0.9878823 0.9984620 1.0280762\n",
       "2013 0.9976588 0.9987424 0.9878823 0.9984620 1.0280762\n",
       "2014 0.9976588 0.9987424 0.9878823 0.9984620 1.0280762\n",
       "2015 0.9976588 0.9987424 0.9878823 0.9984620 1.0280762\n",
       "2016 0.9976588 0.9987424 0.9878823 0.9984620 1.0280762\n",
       "2017 0.9976588 0.9987424 0.9878823 0.9984620 1.0280762\n",
       "\n",
       "$trend\n",
       "          Jan      Feb      Mar      Apr      May      Jun      Jul      Aug\n",
       "1999                                                                        \n",
       "2000       NA       NA 26.69327 26.43001 26.15229 26.00502 25.91221 25.80259\n",
       "2001 25.24519 25.33042 25.52065 25.75567 25.99187 26.11013 26.12017 26.13123\n",
       "2002 27.64292 28.03539 28.39313 28.76760 29.16870 29.64362 30.24018 30.87019\n",
       "2003 33.31127 33.54149 33.81944 34.14179 34.44359 34.74206 34.93024 35.04175\n",
       "2004 35.19195 35.32104 35.44456 35.55329 35.70943 35.81969 35.90003 35.99343\n",
       "2005 36.09363 36.08174 35.98522 35.79306 35.54913 35.26298 35.00415 34.75766\n",
       "2006 34.23308 34.15747 34.09675 34.08174 34.11010 34.17014 34.21921 34.28758\n",
       "2007 34.57146 34.63228 34.72347 34.85080 34.96870 35.06583 35.18788 35.34479\n",
       "2008 36.18516 36.29436 36.36936 36.34688 36.26258 36.51587 37.19074 37.95387\n",
       "2009 40.98814 41.77454 42.53842 43.22590 43.94497 44.31796 44.18348 43.83717\n",
       "2010 41.68370 41.13564 40.70803 40.60053 40.48188 40.26467 40.08832 39.97213\n",
       "2011 40.52288 40.64811 40.84886 40.88869 40.84298 40.87358 40.88906 40.84549\n",
       "2012 40.63845 40.58955 40.40512 40.20293 40.10578 40.01700 40.00543 40.08127\n",
       "2013 40.67591 40.98809 41.27794 41.56742 41.91099 42.32276 42.79970 43.46121\n",
       "2014 46.26406 46.61875 47.06915 47.65809 48.71381 50.42695 52.68709 54.76042\n",
       "2015 60.25653 62.02180 64.05422 65.84147 66.95034 67.74432 68.37085 69.14773\n",
       "2016 74.93657 75.25410 75.09928 74.90416 74.73648 74.00004 72.67678 71.07542\n",
       "2017 66.36226 66.08193 65.84270 65.66871 65.67207 65.91672       NA       NA\n",
       "          Sep      Oct      Nov      Dec\n",
       "1999       NA       NA       NA       NA\n",
       "2000 25.65974 25.56437 25.48865 25.33517\n",
       "2001 26.22485 26.40303 26.69389 27.15435\n",
       "2002 31.45926 32.01932 32.58155 33.02506\n",
       "2003 35.14201 35.18574 35.15000 35.13347\n",
       "2004 36.08351 36.16995 36.18669 36.12815\n",
       "2005 34.52522 34.36342 34.29220 34.27426\n",
       "2006 34.37495 34.44845 34.49286 34.52091\n",
       "2007 35.52343 35.69848 35.85891 36.03093\n",
       "2008 38.64834 39.25179 39.80571 40.35776\n",
       "2009 43.42678 43.01492 42.58868 42.13804\n",
       "2010 39.95680 40.06233 40.23555 40.41982\n",
       "2011 40.77225 40.63884 40.57051 40.61903\n",
       "2012 40.14399 40.23992 40.34379 40.43684\n",
       "2013 44.23127 44.97628 45.58055 45.96065\n",
       "2014 56.11791 56.98777 57.72521 58.83645\n",
       "2015 70.34908 71.70152 73.17775 74.24095\n",
       "2016 69.48220 68.24195 67.22618 66.63617\n",
       "2017       NA       NA       NA       NA\n",
       "\n",
       "$random\n",
       "           Jan       Feb       Mar       Apr       May       Jun       Jul\n",
       "1999                                                                      \n",
       "2000        NA        NA 1.0339984 0.9946420 1.0258138 1.0389991 1.0073461\n",
       "2001 1.0174864 1.0300886 0.9987290 1.0132542 0.9684763 0.9553389 0.9952567\n",
       "2002 0.9238615 0.9454380 0.9624582 0.9935097 1.0208672 1.0635683 1.0339768\n",
       "2003 0.9970235 1.0016668 1.0147175 1.0300605 1.0710350 1.0133962 0.9886448\n",
       "2004 0.9775840 0.9915647 0.9954662 0.9916951 1.0061394 0.9984160 0.9860057\n",
       "2005 0.9837277 1.0007671 1.0101616 1.0137896 0.9931860 0.9914617 1.0102216\n",
       "2006 0.9622063 0.9629154 0.9977944 1.0180267 1.0308641 1.0146369 1.0126953\n",
       "2007 0.9649674 0.9840583 1.0056026 1.0209688 1.0111595 1.0025545 1.0059076\n",
       "2008 0.9709748 0.9914963 1.0252478 1.0304616 1.0312459 1.0214927 0.9946759\n",
       "2009 1.0788589 1.0721794 1.0596554 1.0246771 1.0024833 0.9942530 1.0304862\n",
       "2010 0.9789671 0.9741225 0.9821095 0.9705326 0.9524297 0.9587880 0.9968505\n",
       "2011 0.9617334 0.9641539 0.9916354 1.0135255 0.9974639 1.0006873 0.9822755\n",
       "2012 0.9494060 0.9499189 0.9747708 0.9781438 1.0271243 1.0402165 0.9976123\n",
       "2013 0.9692211 0.9635577 0.9676804 0.9886907 1.0009472 1.0190609 1.0329932\n",
       "2014 0.9896746 1.0439827 1.0448284 1.0475343 0.9821962 0.9217676 0.9152781\n",
       "2015 1.2510248 1.0896216 0.9783645 0.8732982 0.8699210 0.9312237 0.9665666\n",
       "2016 1.0544392 1.0932160 1.0212268 1.0184399 1.0092142 0.9699246 1.0220156\n",
       "2017 0.9476515 0.9200605 0.9131149 0.9563116 0.9769947 1.0417757        NA\n",
       "           Aug       Sep       Oct       Nov       Dec\n",
       "1999                  NA        NA        NA        NA\n",
       "2000 0.9604937 0.9541206 0.9330580 0.9509795 1.0264418\n",
       "2001 1.0308995 1.0257763 1.0270679 0.9997284 0.9718040\n",
       "2002 1.0094123 0.9942967 0.9927820 0.9731507 0.9871297\n",
       "2003 0.9550136 1.0146501 1.0002483 1.0125416 1.0188467\n",
       "2004 0.9922696 1.0081540 1.0259109 1.0349582 1.0120131\n",
       "2005 1.0203378 0.9937272 1.0048594 0.9954991 0.9657581\n",
       "2006 1.0017358 0.9880939 1.0018581 1.0099905 0.9797779\n",
       "2007 0.9923733 0.9973639 1.0119672 1.0060328 0.9682811\n",
       "2008 0.9517095 0.9363227 0.8869325 0.8879842 1.0285111\n",
       "2009 1.0626940 1.0152819 1.0118719 1.0334084 0.9919942\n",
       "2010 0.9735457 1.0380555 1.0871966 1.0222282 0.9779488\n",
       "2011 1.0215827 1.0667139 1.0454557 1.0127903 0.9917032\n",
       "2012 1.0179978 0.9960065 1.0219025 0.9940750 0.9685653\n",
       "2013 1.0136157 0.9880365 0.9870657 0.9899975 0.9552314\n",
       "2014 0.8877500 0.8904433 0.9188942 1.0846937 1.1372197\n",
       "2015 1.0614062 1.0526918 0.9962845 0.9620503 1.0490558\n",
       "2016 1.0259712 1.0190737 1.0254527 1.0086999 0.9485264\n",
       "2017        NA        NA        NA        NA        NA\n",
       "\n",
       "$figure\n",
       " [1] 0.9987424 0.9878823 0.9984620 1.0280762 1.0335957 1.0136678 0.9941377\n",
       " [8] 0.9856060 0.9843079 0.9900369 0.9878263 0.9976588\n",
       "\n",
       "$type\n",
       "[1] \"multiplicative\"\n",
       "\n",
       "attr(,\"class\")\n",
       "[1] \"decomposed.ts\""
      ]
     },
     "metadata": {},
     "output_type": "display_data"
    }
   ],
   "source": [
    "decompose(eur_rub_rate,\"multiplicative\")"
   ]
  },
  {
   "cell_type": "code",
   "execution_count": 23,
   "metadata": {},
   "outputs": [
    {
     "data": {
      "image/png": "[encoded data removed]",
      "text/plain": [
       "plot without title"
      ]
     },
     "metadata": {},
     "output_type": "display_data"
    }
   ],
   "source": [
    "plot(decompose(eur_rub_rate,\"multiplicative\"))"
   ]
  },
  {
   "cell_type": "code",
   "execution_count": 24,
   "metadata": {},
   "outputs": [
    {
     "data": {
      "text/plain": [
       "           Jan       Feb       Mar       Apr       May       Jun       Jul\n",
       "2000                     1.0339984 0.9946420 1.0258138 1.0389991 1.0073461\n",
       "2001 1.0174864 1.0300886 0.9987290 1.0132542 0.9684763 0.9553389 0.9952567\n",
       "2002 0.9238615 0.9454380 0.9624582 0.9935097 1.0208672 1.0635683 1.0339768\n",
       "2003 0.9970235 1.0016668 1.0147175 1.0300605 1.0710350 1.0133962 0.9886448\n",
       "2004 0.9775840 0.9915647 0.9954662 0.9916951 1.0061394 0.9984160 0.9860057\n",
       "2005 0.9837277 1.0007671 1.0101616 1.0137896 0.9931860 0.9914617 1.0102216\n",
       "2006 0.9622063 0.9629154 0.9977944 1.0180267 1.0308641 1.0146369 1.0126953\n",
       "2007 0.9649674 0.9840583 1.0056026 1.0209688 1.0111595 1.0025545 1.0059076\n",
       "2008 0.9709748 0.9914963 1.0252478 1.0304616 1.0312459 1.0214927 0.9946759\n",
       "2009 1.0788589 1.0721794 1.0596554 1.0246771 1.0024833 0.9942530 1.0304862\n",
       "2010 0.9789671 0.9741225 0.9821095 0.9705326 0.9524297 0.9587880 0.9968505\n",
       "2011 0.9617334 0.9641539 0.9916354 1.0135255 0.9974639 1.0006873 0.9822755\n",
       "2012 0.9494060 0.9499189 0.9747708 0.9781438 1.0271243 1.0402165 0.9976123\n",
       "2013 0.9692211 0.9635577 0.9676804 0.9886907 1.0009472 1.0190609 1.0329932\n",
       "2014 0.9896746 1.0439827 1.0448284 1.0475343 0.9821962 0.9217676 0.9152781\n",
       "2015 1.2510248 1.0896216 0.9783645 0.8732982 0.8699210 0.9312237 0.9665666\n",
       "2016 1.0544392 1.0932160 1.0212268 1.0184399 1.0092142 0.9699246 1.0220156\n",
       "2017 0.9476515 0.9200605 0.9131149 0.9563116 0.9769947 1.0417757          \n",
       "           Aug       Sep       Oct       Nov       Dec\n",
       "2000 0.9604937 0.9541206 0.9330580 0.9509795 1.0264418\n",
       "2001 1.0308995 1.0257763 1.0270679 0.9997284 0.9718040\n",
       "2002 1.0094123 0.9942967 0.9927820 0.9731507 0.9871297\n",
       "2003 0.9550136 1.0146501 1.0002483 1.0125416 1.0188467\n",
       "2004 0.9922696 1.0081540 1.0259109 1.0349582 1.0120131\n",
       "2005 1.0203378 0.9937272 1.0048594 0.9954991 0.9657581\n",
       "2006 1.0017358 0.9880939 1.0018581 1.0099905 0.9797779\n",
       "2007 0.9923733 0.9973639 1.0119672 1.0060328 0.9682811\n",
       "2008 0.9517095 0.9363227 0.8869325 0.8879842 1.0285111\n",
       "2009 1.0626940 1.0152819 1.0118719 1.0334084 0.9919942\n",
       "2010 0.9735457 1.0380555 1.0871966 1.0222282 0.9779488\n",
       "2011 1.0215827 1.0667139 1.0454557 1.0127903 0.9917032\n",
       "2012 1.0179978 0.9960065 1.0219025 0.9940750 0.9685653\n",
       "2013 1.0136157 0.9880365 0.9870657 0.9899975 0.9552314\n",
       "2014 0.8877500 0.8904433 0.9188942 1.0846937 1.1372197\n",
       "2015 1.0614062 1.0526918 0.9962845 0.9620503 1.0490558\n",
       "2016 1.0259712 1.0190737 1.0254527 1.0086999 0.9485264\n",
       "2017                                                  "
      ]
     },
     "metadata": {},
     "output_type": "display_data"
    }
   ],
   "source": [
    "random_multiplicative <- (decompose(eur_rub_rate,\"multiplicative\"))$random\n",
    "random_multiplicative <- na.omit(random_multiplicative)\n",
    "random_multiplicative"
   ]
  },
  {
   "cell_type": "code",
   "execution_count": 25,
   "metadata": {},
   "outputs": [
    {
     "data": {
      "image/png": "[encoded data removed]",
      "text/plain": [
       "plot without title"
      ]
     },
     "metadata": {},
     "output_type": "display_data"
    }
   ],
   "source": [
    "plot(random_multiplicative)"
   ]
  },
  {
   "cell_type": "code",
   "execution_count": 26,
   "metadata": {},
   "outputs": [
    {
     "data": {
      "image/png": "[encoded data removed]",
      "text/plain": [
       "Plot with title \"Series  ts(random_multiplicative)\""
      ]
     },
     "metadata": {},
     "output_type": "display_data"
    },
    {
     "data": {
      "image/png": "[encoded data removed]",
      "text/plain": [
       "Plot with title \"Series  ts(random_multiplicative)\""
      ]
     },
     "metadata": {},
     "output_type": "display_data"
    }
   ],
   "source": [
    "acf(ts(random_multiplicative))\n",
    "pacf(ts(random_multiplicative))"
   ]
  },
  {
   "cell_type": "code",
   "execution_count": 27,
   "metadata": {},
   "outputs": [
    {
     "data": {
      "text/plain": [
       "Series: random_multiplicative \n",
       "ARIMA(2,0,1)(0,0,2)[12] with non-zero mean \n",
       "\n",
       "Coefficients:\n",
       "         ar1      ar2      ma1     sma1     sma2    mean\n",
       "      1.4569  -0.7843  -0.7570  -0.2428  -0.1378  0.9993\n",
       "s.e.  0.0575   0.0436   0.0871   0.0750   0.0846  0.0009\n",
       "\n",
       "sigma^2 estimated as 0.0007416:  log likelihood=455.85\n",
       "AIC=-897.7   AICc=-897.14   BIC=-874.34"
      ]
     },
     "metadata": {},
     "output_type": "display_data"
    }
   ],
   "source": [
    "auto.arima(random_multiplicative)"
   ]
  },
  {
   "cell_type": "code",
   "execution_count": 28,
   "metadata": {},
   "outputs": [
    {
     "data": {
      "text/plain": [
       "\n",
       "Call:\n",
       "arima(x = random_multiplicative, order = c(2, 0, 1))\n",
       "\n",
       "Coefficients:\n",
       "         ar1      ar2      ma1  intercept\n",
       "      1.4345  -0.7740  -0.7159     0.9992\n",
       "s.e.  0.0647   0.0455   0.1004     0.0016\n",
       "\n",
       "sigma^2 estimated as 0.000768:  log likelihood = 449.92,  aic = -889.83"
      ]
     },
     "metadata": {},
     "output_type": "display_data"
    }
   ],
   "source": [
    "res2 <- arima(random_multiplicative, c(2,0,1))\n",
    "res2"
   ]
  },
  {
   "cell_type": "code",
   "execution_count": 29,
   "metadata": {},
   "outputs": [
    {
     "data": {
      "image/png": "[encoded data removed]",
      "text/plain": [
       "plot without title"
      ]
     },
     "metadata": {},
     "output_type": "display_data"
    }
   ],
   "source": [
    "plot(res2$residuals)"
   ]
  },
  {
   "cell_type": "code",
   "execution_count": 30,
   "metadata": {},
   "outputs": [
    {
     "data": {
      "text/plain": [
       "      Min.    1st Qu.     Median       Mean    3rd Qu.       Max. \n",
       "-7.312e-02 -1.650e-02 -6.245e-05  6.973e-05  1.339e-02  1.269e-01 "
      ]
     },
     "metadata": {},
     "output_type": "display_data"
    }
   ],
   "source": [
    "res_multiplicative <- res2$residuals\n",
    "summary(res_multiplicative)"
   ]
  },
  {
   "cell_type": "code",
   "execution_count": 31,
   "metadata": {},
   "outputs": [
    {
     "data": {
      "text/html": [
       "208"
      ],
      "text/latex": [
       "208"
      ],
      "text/markdown": [
       "208"
      ],
      "text/plain": [
       "[1] 208"
      ]
     },
     "metadata": {},
     "output_type": "display_data"
    }
   ],
   "source": [
    "x_mult= (res_multiplicative - mean(res_multiplicative)) / sqrt(var(res_multiplicative))\n",
    "length(x_mult)"
   ]
  },
  {
   "cell_type": "code",
   "execution_count": 32,
   "metadata": {},
   "outputs": [
    {
     "data": {
      "text/plain": [
       "\n",
       "\tTwo-sample Kolmogorov-Smirnov test\n",
       "\n",
       "data:  x_mult and rnorm(500)\n",
       "D = 0.091731, p-value = 0.1687\n",
       "alternative hypothesis: two-sided\n"
      ]
     },
     "metadata": {},
     "output_type": "display_data"
    }
   ],
   "source": [
    "ks.test(x_mult,rnorm(500))"
   ]
  },
  {
   "cell_type": "code",
   "execution_count": 33,
   "metadata": {},
   "outputs": [
    {
     "data": {
      "text/plain": [
       "\n",
       "\tTwo-sample Kolmogorov-Smirnov test\n",
       "\n",
       "data:  x_mult and rnorm(500)\n",
       "D = 0.069192, p-value = 0.4828\n",
       "alternative hypothesis: two-sided\n"
      ]
     },
     "metadata": {},
     "output_type": "display_data"
    }
   ],
   "source": [
    "ks.test(x_mult,rnorm(500))"
   ]
  },
  {
   "cell_type": "markdown",
   "metadata": {},
   "source": [
    "##### p-value is not high enough."
   ]
  },
  {
   "cell_type": "markdown",
   "metadata": {},
   "source": [
    "### Question:\n",
    "Why are they in the form of ARIMA(..)(..) ? \n",
    "And why is the second one  'with the non-zero mean' ?"
   ]
  },
  {
   "cell_type": "markdown",
   "metadata": {},
   "source": [
    "## STL: A Seasonal-Trend Decomposition Procedure Based on LOESS"
   ]
  },
  {
   "cell_type": "markdown",
   "metadata": {},
   "source": [
    "## ' stl '   instead of   'decompose'"
   ]
  },
  {
   "cell_type": "code",
   "execution_count": 34,
   "metadata": {},
   "outputs": [],
   "source": [
    "allow.multiplicative.trend=TRUE\n",
    "stlled <-stl(eur_rub_rate,\"periodic\")"
   ]
  },
  {
   "cell_type": "code",
   "execution_count": 35,
   "metadata": {},
   "outputs": [
    {
     "data": {
      "image/png": "[encoded data removed]",
      "text/plain": [
       "plot without title"
      ]
     },
     "metadata": {},
     "output_type": "display_data"
    }
   ],
   "source": [
    "plot(stlled)"
   ]
  },
  {
   "cell_type": "code",
   "execution_count": 36,
   "metadata": {},
   "outputs": [
    {
     "data": {
      "text/plain": [
       "NULL"
      ]
     },
     "metadata": {},
     "output_type": "display_data"
    }
   ],
   "source": [
    "stlled$residual"
   ]
  },
  {
   "cell_type": "code",
   "execution_count": null,
   "metadata": {
    "collapsed": true
   },
   "outputs": [],
   "source": []
  },
  {
   "cell_type": "code",
   "execution_count": null,
   "metadata": {
    "collapsed": true
   },
   "outputs": [],
   "source": []
  }
 ],
 "metadata": {
  "kernelspec": {
   "display_name": "R",
   "language": "R",
   "name": "ir"
  },
  "language_info": {
   "codemirror_mode": "r",
   "file_extension": ".r",
   "mimetype": "text/x-r-source",
   "name": "R",
   "pygments_lexer": "r",
   "version": "3.4.1"
  }
 },
 "nbformat": 4,
 "nbformat_minor": 2
}
