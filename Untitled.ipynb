{
 "cells": [
  {
   "cell_type": "code",
   "execution_count": 1,
   "metadata": {},
   "outputs": [
    {
     "name": "stderr",
     "output_type": "stream",
     "text": [
      "Warning message:\n",
      "\"package 'Quandl' was built under R version 3.4.2\"Loading required package: xts\n",
      "Warning message:\n",
      "\"package 'xts' was built under R version 3.4.2\"Loading required package: zoo\n",
      "Warning message:\n",
      "\"package 'zoo' was built under R version 3.4.2\"\n",
      "Attaching package: 'zoo'\n",
      "\n",
      "The following objects are masked from 'package:base':\n",
      "\n",
      "    as.Date, as.Date.numeric\n",
      "\n"
     ]
    }
   ],
   "source": [
    "library(Quandl)"
   ]
  },
  {
   "cell_type": "code",
   "execution_count": 2,
   "metadata": {},
   "outputs": [
    {
     "name": "stderr",
     "output_type": "stream",
     "text": [
      "Installing package into 'C:/Users/userr/Documents/R/win-library/3.4'\n",
      "(as 'lib' is unspecified)\n"
     ]
    },
    {
     "ename": "ERROR",
     "evalue": "Error in contrib.url(repos, \"source\"): trying to use CRAN without setting a mirror\n",
     "output_type": "error",
     "traceback": [
      "Error in contrib.url(repos, \"source\"): trying to use CRAN without setting a mirror\nTraceback:\n",
      "1. install.packages(\"Quandl\")",
      "2. contrib.url(repos, \"source\")",
      "3. stop(\"trying to use CRAN without setting a mirror\")"
     ]
    }
   ],
   "source": [
    "install.packages(\"Quandl\")\n",
    "library(Quandl)"
   ]
  },
  {
   "cell_type": "code",
   "execution_count": 3,
   "metadata": {
    "collapsed": true
   },
   "outputs": [],
   "source": [
    "library(Quandl)"
   ]
  },
  {
   "cell_type": "code",
   "execution_count": 4,
   "metadata": {},
   "outputs": [
    {
     "data": {
      "text/html": [
       "<table>\n",
       "<thead><tr><th scope=col>Date</th><th scope=col>Rate</th><th scope=col>High (est)</th><th scope=col>Low (est)</th></tr></thead>\n",
       "<tbody>\n",
       "\t<tr><td>2017-11-13</td><td>1.166684  </td><td>1.166684  </td><td>1.166684  </td></tr>\n",
       "\t<tr><td>2017-11-10</td><td>1.164687  </td><td>1.167515  </td><td>1.162399  </td></tr>\n",
       "\t<tr><td>2017-11-09</td><td>1.159689  </td><td>1.165257  </td><td>1.158641  </td></tr>\n",
       "\t<tr><td>2017-11-08</td><td>1.160106  </td><td>1.160955  </td><td>1.158118  </td></tr>\n",
       "\t<tr><td>2017-11-07</td><td>1.161265  </td><td>1.161710  </td><td>1.155588  </td></tr>\n",
       "\t<tr><td>2017-11-06</td><td>1.161494  </td><td>1.162656  </td><td>1.158279  </td></tr>\n",
       "\t<tr><td>2017-11-03</td><td>1.166181  </td><td>1.168675  </td><td>1.160524  </td></tr>\n",
       "\t<tr><td>2017-11-02</td><td>1.162872  </td><td>1.168730  </td><td>1.162885  </td></tr>\n",
       "\t<tr><td>2017-11-01</td><td>1.165175  </td><td>1.165746  </td><td>1.160833  </td></tr>\n",
       "\t<tr><td>2017-10-31</td><td>1.165270  </td><td>1.165895  </td><td>1.162561  </td></tr>\n",
       "\t<tr><td>2017-10-30</td><td>1.160456  </td><td>1.164280  </td><td>1.159810  </td></tr>\n",
       "\t<tr><td>2017-10-27</td><td>1.163724  </td><td>1.164415  </td><td>1.157595  </td></tr>\n",
       "\t<tr><td>2017-10-26</td><td>1.182075  </td><td>1.183558  </td><td>1.169221  </td></tr>\n",
       "\t<tr><td>2017-10-25</td><td>1.175903  </td><td>1.181754  </td><td>1.175378  </td></tr>\n",
       "\t<tr><td>2017-10-24</td><td>1.175917  </td><td>1.177718  </td><td>1.174384  </td></tr>\n",
       "\t<tr><td>2017-10-23</td><td>1.175364  </td><td>1.178550  </td><td>1.173406  </td></tr>\n",
       "\t<tr><td>2017-10-20</td><td>1.184806  </td><td>1.185804  </td><td>1.176500  </td></tr>\n",
       "\t<tr><td>2017-10-19</td><td>1.179523  </td><td>1.185719  </td><td>1.176997  </td></tr>\n",
       "\t<tr><td>2017-10-18</td><td>1.177191  </td><td>1.177981  </td><td>1.173227  </td></tr>\n",
       "\t<tr><td>2017-10-17</td><td>1.179454  </td><td>1.179510  </td><td>1.173860  </td></tr>\n",
       "\t<tr><td>2017-10-16</td><td>1.181405  </td><td>1.182299  </td><td>1.178106  </td></tr>\n",
       "\t<tr><td>2017-10-13</td><td>1.183180  </td><td>1.187437  </td><td>1.180624  </td></tr>\n",
       "\t<tr><td>2017-10-12</td><td>1.186549  </td><td>1.188072  </td><td>1.183180  </td></tr>\n",
       "\t<tr><td>2017-10-11</td><td>1.181488  </td><td>1.185804  </td><td>1.179635  </td></tr>\n",
       "\t<tr><td>2017-10-10</td><td>1.174164  </td><td>1.181768  </td><td>1.174191  </td></tr>\n",
       "\t<tr><td>2017-10-09</td><td>1.174246  </td><td>1.175088  </td><td>1.172099  </td></tr>\n",
       "\t<tr><td>2017-10-06</td><td>1.171234  </td><td>1.173874  </td><td>1.167133  </td></tr>\n",
       "\t<tr><td>2017-10-05</td><td>1.175724  </td><td>1.177995  </td><td>1.170385  </td></tr>\n",
       "\t<tr><td>2017-10-04</td><td>1.174757  </td><td>1.178675  </td><td>1.174743  </td></tr>\n",
       "\t<tr><td>2017-10-03</td><td>1.173378  </td><td>1.177163  </td><td>1.169741  </td></tr>\n",
       "\t<tr><td>...</td><td>...</td><td>...</td><td>...</td></tr>\n",
       "\t<tr><td>1999-10-15</td><td>1.08325   </td><td>0.0000    </td><td>0.0000    </td></tr>\n",
       "\t<tr><td>1999-10-14</td><td>1.07784   </td><td>1.0910    </td><td>1.0648    </td></tr>\n",
       "\t<tr><td>1999-10-13</td><td>1.07305   </td><td>0.0000    </td><td>0.0000    </td></tr>\n",
       "\t<tr><td>1999-10-12</td><td>1.06539   </td><td>0.0000    </td><td>0.0000    </td></tr>\n",
       "\t<tr><td>1999-10-11</td><td>1.06449   </td><td>1.0778    </td><td>1.0514    </td></tr>\n",
       "\t<tr><td>1999-10-08</td><td>1.06852   </td><td>0.0000    </td><td>0.0000    </td></tr>\n",
       "\t<tr><td>1999-10-07</td><td>1.07195   </td><td>0.0000    </td><td>0.0000    </td></tr>\n",
       "\t<tr><td>1999-10-06</td><td>1.07138   </td><td>0.0000    </td><td>0.0000    </td></tr>\n",
       "\t<tr><td>1999-10-05</td><td>1.07021   </td><td>1.0823    </td><td>1.0583    </td></tr>\n",
       "\t<tr><td>1999-10-04</td><td>1.07213   </td><td>1.0839    </td><td>1.0604    </td></tr>\n",
       "\t<tr><td>1999-10-01</td><td>1.06967   </td><td>0.0000    </td><td>0.0000    </td></tr>\n",
       "\t<tr><td>1999-09-30</td><td>1.06170   </td><td>1.0741    </td><td>1.0494    </td></tr>\n",
       "\t<tr><td>1999-09-29</td><td>1.05254   </td><td>0.0000    </td><td>0.0000    </td></tr>\n",
       "\t<tr><td>1999-09-28</td><td>1.04694   </td><td>1.0600    </td><td>1.0340    </td></tr>\n",
       "\t<tr><td>1999-09-27</td><td>1.04572   </td><td>1.0576    </td><td>1.0340    </td></tr>\n",
       "\t<tr><td>1999-09-24</td><td>1.04648   </td><td>1.0595    </td><td>1.0336    </td></tr>\n",
       "\t<tr><td>1999-09-23</td><td>1.04671   </td><td>1.0589    </td><td>1.0346    </td></tr>\n",
       "\t<tr><td>1999-09-22</td><td>1.04755   </td><td>1.0600    </td><td>1.0352    </td></tr>\n",
       "\t<tr><td>1999-09-21</td><td>1.04185   </td><td>1.0538    </td><td>1.0301    </td></tr>\n",
       "\t<tr><td>1999-09-20</td><td>1.04075   </td><td>0.0000    </td><td>0.0000    </td></tr>\n",
       "\t<tr><td>1999-09-17</td><td>1.03959   </td><td>1.0514    </td><td>1.0279    </td></tr>\n",
       "\t<tr><td>1999-09-16</td><td>1.03826   </td><td>0.0000    </td><td>0.0000    </td></tr>\n",
       "\t<tr><td>1999-09-15</td><td>1.03594   </td><td>1.0477    </td><td>1.0243    </td></tr>\n",
       "\t<tr><td>1999-09-14</td><td>1.03646   </td><td>1.0483    </td><td>1.0247    </td></tr>\n",
       "\t<tr><td>1999-09-13</td><td>1.04257   </td><td>0.0000    </td><td>0.0000    </td></tr>\n",
       "\t<tr><td>1999-09-10</td><td>1.05491   </td><td>0.0000    </td><td>0.0000    </td></tr>\n",
       "\t<tr><td>1999-09-09</td><td>1.05970   </td><td>0.0000    </td><td>0.0000    </td></tr>\n",
       "\t<tr><td>1999-09-08</td><td>1.05889   </td><td>1.0714    </td><td>1.0465    </td></tr>\n",
       "\t<tr><td>1999-09-07</td><td>1.05771   </td><td>1.0699    </td><td>1.0457    </td></tr>\n",
       "\t<tr><td>1999-09-06</td><td>1.06283   </td><td>1.0757    </td><td>1.0501    </td></tr>\n",
       "</tbody>\n",
       "</table>\n"
      ],
      "text/latex": [
       "\\begin{tabular}{r|llll}\n",
       " Date & Rate & High (est) & Low (est)\\\\\n",
       "\\hline\n",
       "\t 2017-11-13 & 1.166684   & 1.166684   & 1.166684  \\\\\n",
       "\t 2017-11-10 & 1.164687   & 1.167515   & 1.162399  \\\\\n",
       "\t 2017-11-09 & 1.159689   & 1.165257   & 1.158641  \\\\\n",
       "\t 2017-11-08 & 1.160106   & 1.160955   & 1.158118  \\\\\n",
       "\t 2017-11-07 & 1.161265   & 1.161710   & 1.155588  \\\\\n",
       "\t 2017-11-06 & 1.161494   & 1.162656   & 1.158279  \\\\\n",
       "\t 2017-11-03 & 1.166181   & 1.168675   & 1.160524  \\\\\n",
       "\t 2017-11-02 & 1.162872   & 1.168730   & 1.162885  \\\\\n",
       "\t 2017-11-01 & 1.165175   & 1.165746   & 1.160833  \\\\\n",
       "\t 2017-10-31 & 1.165270   & 1.165895   & 1.162561  \\\\\n",
       "\t 2017-10-30 & 1.160456   & 1.164280   & 1.159810  \\\\\n",
       "\t 2017-10-27 & 1.163724   & 1.164415   & 1.157595  \\\\\n",
       "\t 2017-10-26 & 1.182075   & 1.183558   & 1.169221  \\\\\n",
       "\t 2017-10-25 & 1.175903   & 1.181754   & 1.175378  \\\\\n",
       "\t 2017-10-24 & 1.175917   & 1.177718   & 1.174384  \\\\\n",
       "\t 2017-10-23 & 1.175364   & 1.178550   & 1.173406  \\\\\n",
       "\t 2017-10-20 & 1.184806   & 1.185804   & 1.176500  \\\\\n",
       "\t 2017-10-19 & 1.179523   & 1.185719   & 1.176997  \\\\\n",
       "\t 2017-10-18 & 1.177191   & 1.177981   & 1.173227  \\\\\n",
       "\t 2017-10-17 & 1.179454   & 1.179510   & 1.173860  \\\\\n",
       "\t 2017-10-16 & 1.181405   & 1.182299   & 1.178106  \\\\\n",
       "\t 2017-10-13 & 1.183180   & 1.187437   & 1.180624  \\\\\n",
       "\t 2017-10-12 & 1.186549   & 1.188072   & 1.183180  \\\\\n",
       "\t 2017-10-11 & 1.181488   & 1.185804   & 1.179635  \\\\\n",
       "\t 2017-10-10 & 1.174164   & 1.181768   & 1.174191  \\\\\n",
       "\t 2017-10-09 & 1.174246   & 1.175088   & 1.172099  \\\\\n",
       "\t 2017-10-06 & 1.171234   & 1.173874   & 1.167133  \\\\\n",
       "\t 2017-10-05 & 1.175724   & 1.177995   & 1.170385  \\\\\n",
       "\t 2017-10-04 & 1.174757   & 1.178675   & 1.174743  \\\\\n",
       "\t 2017-10-03 & 1.173378   & 1.177163   & 1.169741  \\\\\n",
       "\t ... & ... & ... & ...\\\\\n",
       "\t 1999-10-15 & 1.08325    & 0.0000     & 0.0000    \\\\\n",
       "\t 1999-10-14 & 1.07784    & 1.0910     & 1.0648    \\\\\n",
       "\t 1999-10-13 & 1.07305    & 0.0000     & 0.0000    \\\\\n",
       "\t 1999-10-12 & 1.06539    & 0.0000     & 0.0000    \\\\\n",
       "\t 1999-10-11 & 1.06449    & 1.0778     & 1.0514    \\\\\n",
       "\t 1999-10-08 & 1.06852    & 0.0000     & 0.0000    \\\\\n",
       "\t 1999-10-07 & 1.07195    & 0.0000     & 0.0000    \\\\\n",
       "\t 1999-10-06 & 1.07138    & 0.0000     & 0.0000    \\\\\n",
       "\t 1999-10-05 & 1.07021    & 1.0823     & 1.0583    \\\\\n",
       "\t 1999-10-04 & 1.07213    & 1.0839     & 1.0604    \\\\\n",
       "\t 1999-10-01 & 1.06967    & 0.0000     & 0.0000    \\\\\n",
       "\t 1999-09-30 & 1.06170    & 1.0741     & 1.0494    \\\\\n",
       "\t 1999-09-29 & 1.05254    & 0.0000     & 0.0000    \\\\\n",
       "\t 1999-09-28 & 1.04694    & 1.0600     & 1.0340    \\\\\n",
       "\t 1999-09-27 & 1.04572    & 1.0576     & 1.0340    \\\\\n",
       "\t 1999-09-24 & 1.04648    & 1.0595     & 1.0336    \\\\\n",
       "\t 1999-09-23 & 1.04671    & 1.0589     & 1.0346    \\\\\n",
       "\t 1999-09-22 & 1.04755    & 1.0600     & 1.0352    \\\\\n",
       "\t 1999-09-21 & 1.04185    & 1.0538     & 1.0301    \\\\\n",
       "\t 1999-09-20 & 1.04075    & 0.0000     & 0.0000    \\\\\n",
       "\t 1999-09-17 & 1.03959    & 1.0514     & 1.0279    \\\\\n",
       "\t 1999-09-16 & 1.03826    & 0.0000     & 0.0000    \\\\\n",
       "\t 1999-09-15 & 1.03594    & 1.0477     & 1.0243    \\\\\n",
       "\t 1999-09-14 & 1.03646    & 1.0483     & 1.0247    \\\\\n",
       "\t 1999-09-13 & 1.04257    & 0.0000     & 0.0000    \\\\\n",
       "\t 1999-09-10 & 1.05491    & 0.0000     & 0.0000    \\\\\n",
       "\t 1999-09-09 & 1.05970    & 0.0000     & 0.0000    \\\\\n",
       "\t 1999-09-08 & 1.05889    & 1.0714     & 1.0465    \\\\\n",
       "\t 1999-09-07 & 1.05771    & 1.0699     & 1.0457    \\\\\n",
       "\t 1999-09-06 & 1.06283    & 1.0757     & 1.0501    \\\\\n",
       "\\end{tabular}\n"
      ],
      "text/markdown": [
       "\n",
       "Date | Rate | High (est) | Low (est) | \n",
       "|---|---|---|---|---|---|---|---|---|---|---|---|---|---|---|---|---|---|---|---|---|---|---|---|---|---|---|---|---|---|---|---|---|---|---|---|---|---|---|---|---|---|---|---|---|---|---|---|---|---|---|---|---|---|---|---|---|---|---|---|---|\n",
       "| 2017-11-13 | 1.166684   | 1.166684   | 1.166684   | \n",
       "| 2017-11-10 | 1.164687   | 1.167515   | 1.162399   | \n",
       "| 2017-11-09 | 1.159689   | 1.165257   | 1.158641   | \n",
       "| 2017-11-08 | 1.160106   | 1.160955   | 1.158118   | \n",
       "| 2017-11-07 | 1.161265   | 1.161710   | 1.155588   | \n",
       "| 2017-11-06 | 1.161494   | 1.162656   | 1.158279   | \n",
       "| 2017-11-03 | 1.166181   | 1.168675   | 1.160524   | \n",
       "| 2017-11-02 | 1.162872   | 1.168730   | 1.162885   | \n",
       "| 2017-11-01 | 1.165175   | 1.165746   | 1.160833   | \n",
       "| 2017-10-31 | 1.165270   | 1.165895   | 1.162561   | \n",
       "| 2017-10-30 | 1.160456   | 1.164280   | 1.159810   | \n",
       "| 2017-10-27 | 1.163724   | 1.164415   | 1.157595   | \n",
       "| 2017-10-26 | 1.182075   | 1.183558   | 1.169221   | \n",
       "| 2017-10-25 | 1.175903   | 1.181754   | 1.175378   | \n",
       "| 2017-10-24 | 1.175917   | 1.177718   | 1.174384   | \n",
       "| 2017-10-23 | 1.175364   | 1.178550   | 1.173406   | \n",
       "| 2017-10-20 | 1.184806   | 1.185804   | 1.176500   | \n",
       "| 2017-10-19 | 1.179523   | 1.185719   | 1.176997   | \n",
       "| 2017-10-18 | 1.177191   | 1.177981   | 1.173227   | \n",
       "| 2017-10-17 | 1.179454   | 1.179510   | 1.173860   | \n",
       "| 2017-10-16 | 1.181405   | 1.182299   | 1.178106   | \n",
       "| 2017-10-13 | 1.183180   | 1.187437   | 1.180624   | \n",
       "| 2017-10-12 | 1.186549   | 1.188072   | 1.183180   | \n",
       "| 2017-10-11 | 1.181488   | 1.185804   | 1.179635   | \n",
       "| 2017-10-10 | 1.174164   | 1.181768   | 1.174191   | \n",
       "| 2017-10-09 | 1.174246   | 1.175088   | 1.172099   | \n",
       "| 2017-10-06 | 1.171234   | 1.173874   | 1.167133   | \n",
       "| 2017-10-05 | 1.175724   | 1.177995   | 1.170385   | \n",
       "| 2017-10-04 | 1.174757   | 1.178675   | 1.174743   | \n",
       "| 2017-10-03 | 1.173378   | 1.177163   | 1.169741   | \n",
       "| ... | ... | ... | ... | \n",
       "| 1999-10-15 | 1.08325    | 0.0000     | 0.0000     | \n",
       "| 1999-10-14 | 1.07784    | 1.0910     | 1.0648     | \n",
       "| 1999-10-13 | 1.07305    | 0.0000     | 0.0000     | \n",
       "| 1999-10-12 | 1.06539    | 0.0000     | 0.0000     | \n",
       "| 1999-10-11 | 1.06449    | 1.0778     | 1.0514     | \n",
       "| 1999-10-08 | 1.06852    | 0.0000     | 0.0000     | \n",
       "| 1999-10-07 | 1.07195    | 0.0000     | 0.0000     | \n",
       "| 1999-10-06 | 1.07138    | 0.0000     | 0.0000     | \n",
       "| 1999-10-05 | 1.07021    | 1.0823     | 1.0583     | \n",
       "| 1999-10-04 | 1.07213    | 1.0839     | 1.0604     | \n",
       "| 1999-10-01 | 1.06967    | 0.0000     | 0.0000     | \n",
       "| 1999-09-30 | 1.06170    | 1.0741     | 1.0494     | \n",
       "| 1999-09-29 | 1.05254    | 0.0000     | 0.0000     | \n",
       "| 1999-09-28 | 1.04694    | 1.0600     | 1.0340     | \n",
       "| 1999-09-27 | 1.04572    | 1.0576     | 1.0340     | \n",
       "| 1999-09-24 | 1.04648    | 1.0595     | 1.0336     | \n",
       "| 1999-09-23 | 1.04671    | 1.0589     | 1.0346     | \n",
       "| 1999-09-22 | 1.04755    | 1.0600     | 1.0352     | \n",
       "| 1999-09-21 | 1.04185    | 1.0538     | 1.0301     | \n",
       "| 1999-09-20 | 1.04075    | 0.0000     | 0.0000     | \n",
       "| 1999-09-17 | 1.03959    | 1.0514     | 1.0279     | \n",
       "| 1999-09-16 | 1.03826    | 0.0000     | 0.0000     | \n",
       "| 1999-09-15 | 1.03594    | 1.0477     | 1.0243     | \n",
       "| 1999-09-14 | 1.03646    | 1.0483     | 1.0247     | \n",
       "| 1999-09-13 | 1.04257    | 0.0000     | 0.0000     | \n",
       "| 1999-09-10 | 1.05491    | 0.0000     | 0.0000     | \n",
       "| 1999-09-09 | 1.05970    | 0.0000     | 0.0000     | \n",
       "| 1999-09-08 | 1.05889    | 1.0714     | 1.0465     | \n",
       "| 1999-09-07 | 1.05771    | 1.0699     | 1.0457     | \n",
       "| 1999-09-06 | 1.06283    | 1.0757     | 1.0501     | \n",
       "\n",
       "\n"
      ],
      "text/plain": [
       "     Date       Rate     High (est) Low (est)\n",
       "1    2017-11-13 1.166684 1.166684   1.166684 \n",
       "2    2017-11-10 1.164687 1.167515   1.162399 \n",
       "3    2017-11-09 1.159689 1.165257   1.158641 \n",
       "4    2017-11-08 1.160106 1.160955   1.158118 \n",
       "5    2017-11-07 1.161265 1.161710   1.155588 \n",
       "6    2017-11-06 1.161494 1.162656   1.158279 \n",
       "7    2017-11-03 1.166181 1.168675   1.160524 \n",
       "8    2017-11-02 1.162872 1.168730   1.162885 \n",
       "9    2017-11-01 1.165175 1.165746   1.160833 \n",
       "10   2017-10-31 1.165270 1.165895   1.162561 \n",
       "11   2017-10-30 1.160456 1.164280   1.159810 \n",
       "12   2017-10-27 1.163724 1.164415   1.157595 \n",
       "13   2017-10-26 1.182075 1.183558   1.169221 \n",
       "14   2017-10-25 1.175903 1.181754   1.175378 \n",
       "15   2017-10-24 1.175917 1.177718   1.174384 \n",
       "16   2017-10-23 1.175364 1.178550   1.173406 \n",
       "17   2017-10-20 1.184806 1.185804   1.176500 \n",
       "18   2017-10-19 1.179523 1.185719   1.176997 \n",
       "19   2017-10-18 1.177191 1.177981   1.173227 \n",
       "20   2017-10-17 1.179454 1.179510   1.173860 \n",
       "21   2017-10-16 1.181405 1.182299   1.178106 \n",
       "22   2017-10-13 1.183180 1.187437   1.180624 \n",
       "23   2017-10-12 1.186549 1.188072   1.183180 \n",
       "24   2017-10-11 1.181488 1.185804   1.179635 \n",
       "25   2017-10-10 1.174164 1.181768   1.174191 \n",
       "26   2017-10-09 1.174246 1.175088   1.172099 \n",
       "27   2017-10-06 1.171234 1.173874   1.167133 \n",
       "28   2017-10-05 1.175724 1.177995   1.170385 \n",
       "29   2017-10-04 1.174757 1.178675   1.174743 \n",
       "30   2017-10-03 1.173378 1.177163   1.169741 \n",
       "...  ...        ...      ...        ...      \n",
       "5359 1999-10-15 1.08325  0.0000     0.0000   \n",
       "5360 1999-10-14 1.07784  1.0910     1.0648   \n",
       "5361 1999-10-13 1.07305  0.0000     0.0000   \n",
       "5362 1999-10-12 1.06539  0.0000     0.0000   \n",
       "5363 1999-10-11 1.06449  1.0778     1.0514   \n",
       "5364 1999-10-08 1.06852  0.0000     0.0000   \n",
       "5365 1999-10-07 1.07195  0.0000     0.0000   \n",
       "5366 1999-10-06 1.07138  0.0000     0.0000   \n",
       "5367 1999-10-05 1.07021  1.0823     1.0583   \n",
       "5368 1999-10-04 1.07213  1.0839     1.0604   \n",
       "5369 1999-10-01 1.06967  0.0000     0.0000   \n",
       "5370 1999-09-30 1.06170  1.0741     1.0494   \n",
       "5371 1999-09-29 1.05254  0.0000     0.0000   \n",
       "5372 1999-09-28 1.04694  1.0600     1.0340   \n",
       "5373 1999-09-27 1.04572  1.0576     1.0340   \n",
       "5374 1999-09-24 1.04648  1.0595     1.0336   \n",
       "5375 1999-09-23 1.04671  1.0589     1.0346   \n",
       "5376 1999-09-22 1.04755  1.0600     1.0352   \n",
       "5377 1999-09-21 1.04185  1.0538     1.0301   \n",
       "5378 1999-09-20 1.04075  0.0000     0.0000   \n",
       "5379 1999-09-17 1.03959  1.0514     1.0279   \n",
       "5380 1999-09-16 1.03826  0.0000     0.0000   \n",
       "5381 1999-09-15 1.03594  1.0477     1.0243   \n",
       "5382 1999-09-14 1.03646  1.0483     1.0247   \n",
       "5383 1999-09-13 1.04257  0.0000     0.0000   \n",
       "5384 1999-09-10 1.05491  0.0000     0.0000   \n",
       "5385 1999-09-09 1.05970  0.0000     0.0000   \n",
       "5386 1999-09-08 1.05889  1.0714     1.0465   \n",
       "5387 1999-09-07 1.05771  1.0699     1.0457   \n",
       "5388 1999-09-06 1.06283  1.0757     1.0501   "
      ]
     },
     "metadata": {},
     "output_type": "display_data"
    }
   ],
   "source": [
    "Quandl(\"CURRFX/EURUSD\")"
   ]
  },
  {
   "cell_type": "code",
   "execution_count": 5,
   "metadata": {},
   "outputs": [
    {
     "name": "stderr",
     "output_type": "stream",
     "text": [
      "Warning message in Quandl(\"CURRFX/EURUSD\", type = \"ts\"):\n",
      "\"Type 'ts' does not support frequency 365. Returning zoo.\""
     ]
    }
   ],
   "source": [
    "data= Quandl(\"CURRFX/EURUSD\")\n",
    "data= Quandl(\"CURRFX/EURUSD\" , type=\"ts\")"
   ]
  },
  {
   "cell_type": "code",
   "execution_count": 6,
   "metadata": {},
   "outputs": [
    {
     "data": {
      "image/png": "[encoded data removed]",
      "text/plain": [
       "Plot with title \"data\""
      ]
     },
     "metadata": {},
     "output_type": "display_data"
    }
   ],
   "source": [
    "plot(data)"
   ]
  },
  {
   "cell_type": "code",
   "execution_count": null,
   "metadata": {
    "collapsed": true
   },
   "outputs": [],
   "source": []
  }
 ],
 "metadata": {
  "kernelspec": {
   "display_name": "R",
   "language": "R",
   "name": "ir"
  },
  "language_info": {
   "codemirror_mode": "r",
   "file_extension": ".r",
   "mimetype": "text/x-r-source",
   "name": "R",
   "pygments_lexer": "r",
   "version": "3.4.1"
  }
 },
 "nbformat": 4,
 "nbformat_minor": 2
}
